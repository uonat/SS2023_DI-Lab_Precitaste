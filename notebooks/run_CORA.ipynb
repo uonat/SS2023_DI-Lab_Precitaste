{
 "cells": [
  {
   "attachments": {},
   "cell_type": "markdown",
   "metadata": {},
   "source": [
    "## Install CORA and detectron2"
   ]
  },
  {
   "cell_type": "code",
   "execution_count": null,
   "metadata": {},
   "outputs": [],
   "source": [
    "# git clone git@github.com:tgxs002/CORA.git\n",
    "# cd CORA\n",
    "# pip install -r requirements.txt\n",
    "\n",
    "# git clone https://github.com/facebookresearch/detectron2.git \n",
    "# python -m pip install -e detectron2  \n",
    "\n",
    "# cd ./models/ops\n",
    "# sh ./make.sh"
   ]
  },
  {
   "attachments": {},
   "cell_type": "markdown",
   "metadata": {},
   "source": [
    "## Download model and prepare dataset\n",
    "\n",
    "RN50.pth: https://drive.google.com/file/d/1lQmFrbfaZutlA72gi-VOAHOvGuHSYMbo/view\n",
    "\n",
    "Download learned region prompts and put under logs folder: https://github.com/tgxs002/CORA/blob/master/docs/dataset.md\n",
    "\n",
    "Export dataset path with: export data_path='path/to/coco'"
   ]
  },
  {
   "attachments": {},
   "cell_type": "markdown",
   "metadata": {},
   "source": [
    "## Evaluation with RN50 model"
   ]
  },
  {
   "cell_type": "code",
   "execution_count": 1,
   "metadata": {},
   "outputs": [
    {
     "ename": "SyntaxError",
     "evalue": "invalid syntax (2564340739.py, line 8)",
     "output_type": "error",
     "traceback": [
      "\u001b[1;36m  Cell \u001b[1;32mIn[1], line 8\u001b[1;36m\u001b[0m\n\u001b[1;33m    python main.py \\\u001b[0m\n\u001b[1;37m           ^\u001b[0m\n\u001b[1;31mSyntaxError\u001b[0m\u001b[1;31m:\u001b[0m invalid syntax\n"
     ]
    }
   ],
   "source": [
    "# check gpu \n",
    "# bash configs/COCO/R50_dab_ovd_3enc_apm128_splcls0.2_relabel_noinit.sh test 8 local --resume /path/to/checkpoint.pth --eval\n",
    "\n",
    "# if torch.distributed.launch not possible, use:\n",
    "# python main.py  --coco_path  --output_dir logs/COCO/R50_dab_ovd_3enc_apm128_splcls0.2_relabel_noinit/test --batch_size 4 --epochs 35 --lr_drop 35 --backbone clip_RN50 --text_len 15 --ovd --region_prompt_path logs/region_prompt_R50.pth --save_every_epoch 50 --dim_feedforward 1024 --use_nms --num_queries 1000 --anchor_pre_matching --remove_misclassified --condition_on_text --enc_layers 3 --text_dim 1024 --condition_bottleneck 128 --split_class_p 0.2 --model_ema --model_ema_decay 0.99996 --save_best --label_version custom --disable_init --target_class_factor 8 --resume F:/SS23/DILAB_project/SS2023_DI-Lab_Precitaste/external/CORA/checkpoints/COCO_RN50.pth.pth_best_RN50 --eval 2>&1 | tee -a logs/COCO/R50_dab_ovd_3enc_apm128_splcls0.2_relabel_noinit/test/exp_20230602_150229.txt\n",
    "\n",
    "# run COCO:\n",
    "!python main.py --coco_path 'F:/SS23/DILAB_project/SS2023_DI-Lab_Precitaste/dataset/COCO_dataset' --output_dir 'F:/SS23/DILAB_project/SS2023_DI-Lab_Precitaste/output/cora/demo' --batch_size 1 --epochs 35 --lr_drop 35 --backbone clip_RN50 --text_len 15 --ovd --region_prompt_path logs/region_prompt_R50.pth --save_every_epoch 50 --dim_feedforward 1024 --use_nms --num_queries 1000 --anchor_pre_matching --remove_misclassified --condition_on_text --enc_layers 3 --text_dim 1024 --condition_bottleneck 128 --split_class_p 0.2 --model_ema --model_ema_decay 0.99996 --save_best --label_version RN50base  --disable_init --target_class_factor 8 --resume F:/SS23/DILAB_project/SS2023_DI-Lab_Precitaste/external/CORA/checkpoints/COCO_RN50.pth.pth_best_RN50 --visualize --eval 2>&1 | tee -a logs/COCO/R50_dab_ovd_3enc_apm128_splcls0.2_relabel_noinit/test/exp_20230602_150229.txt\n",
    "\n",
    "# # run RPC\n",
    "# python demo.py --coco_path 'F:/SS23/DILAB_project/SS2023_DI-Lab_Precitaste/RPCdataset' --output_dir 'F:/SS23/DILAB_project/SS2023_DI-Lab_Precitaste/output/cora/RPC_demo' --batch_size 1 --epochs 35 --lr_drop 35 --backbone clip_RN50 --text_len 15 --ovd --region_prompt_path logs/region_prompt_R50.pth --save_every_epoch 50 --dim_feedforward 1024 --use_nms --num_queries 1000 --anchor_pre_matching --remove_misclassified --condition_on_text --enc_layers 3 --text_dim 1024 --condition_bottleneck 128 --split_class_p 0.2 --model_ema --model_ema_decay 0.99996 --save_best --label_version custom  --disable_init --target_class_factor 8 --resume F:/SS23/DILAB_project/SS2023_DI-Lab_Precitaste/external/CORA/checkpoints/COCO_RN50.pth.pth_best_RN50 --visualize --eval 2>&1 | tee -a logs/COCO/R50_dab_ovd_3enc_apm128_splcls0.2_relabel_noinit/test/exp_20230602_150229.txt  "
   ]
  }
 ],
 "metadata": {
  "kernelspec": {
   "display_name": "dilab",
   "language": "python",
   "name": "python3"
  },
  "language_info": {
   "codemirror_mode": {
    "name": "ipython",
    "version": 3
   },
   "file_extension": ".py",
   "mimetype": "text/x-python",
   "name": "python",
   "nbconvert_exporter": "python",
   "pygments_lexer": "ipython3",
   "version": "3.9.16"
  },
  "orig_nbformat": 4
 },
 "nbformat": 4,
 "nbformat_minor": 2
}
