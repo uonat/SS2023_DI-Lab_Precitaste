{
 "cells": [
  {
   "cell_type": "code",
   "execution_count": 1,
   "id": "b6b568e1",
   "metadata": {
    "_cell_guid": "b1076dfc-b9ad-4769-8c92-a6c4dae69d19",
    "_uuid": "8f2839f25d086af736a60e9eeb907d3b93b6e0e5",
    "execution": {
     "iopub.execute_input": "2023-06-11T09:27:33.896067Z",
     "iopub.status.busy": "2023-06-11T09:27:33.895628Z",
     "iopub.status.idle": "2023-06-11T09:27:37.421939Z",
     "shell.execute_reply": "2023-06-11T09:27:37.420534Z"
    },
    "papermill": {
     "duration": 3.537041,
     "end_time": "2023-06-11T09:27:37.424662",
     "exception": false,
     "start_time": "2023-06-11T09:27:33.887621",
     "status": "completed"
    },
    "tags": []
   },
   "outputs": [
    {
     "name": "stdout",
     "output_type": "stream",
     "text": [
      "Cloning into 'SS2023_DI-Lab_Precitaste'...\r\n",
      "remote: Enumerating objects: 261, done.\u001b[K\r\n",
      "remote: Counting objects: 100% (261/261), done.\u001b[K\r\n",
      "remote: Compressing objects: 100% (195/195), done.\u001b[K\r\n",
      "remote: Total 261 (delta 88), reused 212 (delta 53), pack-reused 0\u001b[K\r\n",
      "Receiving objects: 100% (261/261), 23.53 MiB | 30.81 MiB/s, done.\r\n",
      "Resolving deltas: 100% (88/88), done.\r\n"
     ]
    }
   ],
   "source": [
    "!git clone https://github.com/uonat/SS2023_DI-Lab_Precitaste.git"
   ]
  },
  {
   "cell_type": "code",
   "execution_count": 2,
   "id": "5ffb500d",
   "metadata": {
    "execution": {
     "iopub.execute_input": "2023-06-11T09:27:37.441467Z",
     "iopub.status.busy": "2023-06-11T09:27:37.441111Z",
     "iopub.status.idle": "2023-06-11T09:27:37.448712Z",
     "shell.execute_reply": "2023-06-11T09:27:37.447164Z"
    },
    "papermill": {
     "duration": 0.0185,
     "end_time": "2023-06-11T09:27:37.450789",
     "exception": false,
     "start_time": "2023-06-11T09:27:37.432289",
     "status": "completed"
    },
    "tags": []
   },
   "outputs": [
    {
     "name": "stdout",
     "output_type": "stream",
     "text": [
      "/kaggle/working/SS2023_DI-Lab_Precitaste\n"
     ]
    }
   ],
   "source": [
    "%cd '/kaggle/working/SS2023_DI-Lab_Precitaste'"
   ]
  },
  {
   "cell_type": "code",
   "execution_count": 3,
   "id": "7b2fa0cf",
   "metadata": {
    "execution": {
     "iopub.execute_input": "2023-06-11T09:27:37.466763Z",
     "iopub.status.busy": "2023-06-11T09:27:37.466495Z",
     "iopub.status.idle": "2023-06-11T09:27:39.648795Z",
     "shell.execute_reply": "2023-06-11T09:27:39.647537Z"
    },
    "papermill": {
     "duration": 2.192836,
     "end_time": "2023-06-11T09:27:39.651143",
     "exception": false,
     "start_time": "2023-06-11T09:27:37.458307",
     "status": "completed"
    },
    "tags": []
   },
   "outputs": [
    {
     "name": "stdout",
     "output_type": "stream",
     "text": [
      "* \u001b[32mmain                              \u001b[m 2df23e7 Bug fix\r\n",
      "  \u001b[31mremotes/origin/CLIP-implementation\u001b[m 134fe54 Updated CLIP Notebook\r\n",
      "  \u001b[31mremotes/origin/HEAD               \u001b[m -> origin/main\r\n",
      "  \u001b[31mremotes/origin/dinov2             \u001b[m 4859060 Added second return parameter for eliminate_boxes post process\r\n",
      "  \u001b[31mremotes/origin/main               \u001b[m 2df23e7 Bug fix\r\n",
      "  \u001b[31mremotes/origin/yushan             \u001b[m 94fc5af Update: different TEXT_PROMPT for RPC datasets\r\n"
     ]
    }
   ],
   "source": [
    "!git fetch\n",
    "!git branch -v -a"
   ]
  },
  {
   "cell_type": "code",
   "execution_count": 4,
   "id": "4fd010ae",
   "metadata": {
    "execution": {
     "iopub.execute_input": "2023-06-11T09:27:39.670381Z",
     "iopub.status.busy": "2023-06-11T09:27:39.668802Z",
     "iopub.status.idle": "2023-06-11T09:27:40.771045Z",
     "shell.execute_reply": "2023-06-11T09:27:40.769878Z"
    },
    "papermill": {
     "duration": 1.113956,
     "end_time": "2023-06-11T09:27:40.773514",
     "exception": false,
     "start_time": "2023-06-11T09:27:39.659558",
     "status": "completed"
    },
    "tags": []
   },
   "outputs": [
    {
     "name": "stdout",
     "output_type": "stream",
     "text": [
      "Branch 'dinov2' set up to track remote branch 'dinov2' from 'origin'.\r\n",
      "Switched to a new branch 'dinov2'\r\n"
     ]
    }
   ],
   "source": [
    "!git switch dinov2"
   ]
  },
  {
   "cell_type": "code",
   "execution_count": 5,
   "id": "99fc8d5e",
   "metadata": {
    "execution": {
     "iopub.execute_input": "2023-06-11T09:27:40.790804Z",
     "iopub.status.busy": "2023-06-11T09:27:40.789891Z",
     "iopub.status.idle": "2023-06-11T09:28:02.212832Z",
     "shell.execute_reply": "2023-06-11T09:28:02.211604Z"
    },
    "papermill": {
     "duration": 21.434444,
     "end_time": "2023-06-11T09:28:02.215675",
     "exception": false,
     "start_time": "2023-06-11T09:27:40.781231",
     "status": "completed"
    },
    "tags": []
   },
   "outputs": [],
   "source": [
    "!pip install . &> /dev/null"
   ]
  },
  {
   "cell_type": "code",
   "execution_count": 6,
   "id": "79a888fa",
   "metadata": {
    "execution": {
     "iopub.execute_input": "2023-06-11T09:28:02.234019Z",
     "iopub.status.busy": "2023-06-11T09:28:02.232946Z",
     "iopub.status.idle": "2023-06-11T09:28:09.595942Z",
     "shell.execute_reply": "2023-06-11T09:28:09.595009Z"
    },
    "papermill": {
     "duration": 7.374589,
     "end_time": "2023-06-11T09:28:09.598286",
     "exception": false,
     "start_time": "2023-06-11T09:28:02.223697",
     "status": "completed"
    },
    "tags": []
   },
   "outputs": [],
   "source": [
    "import numpy as np\n",
    "import cv2\n",
    "import torch\n",
    "import json\n",
    "import pandas as pd\n",
    "from tqdm.notebook import tqdm\n",
    "import matplotlib.pyplot as plt\n",
    "import math\n",
    "import torchvision.transforms as T\n",
    "from PIL import Image"
   ]
  },
  {
   "cell_type": "code",
   "execution_count": 7,
   "id": "d0e7b74b",
   "metadata": {
    "execution": {
     "iopub.execute_input": "2023-06-11T09:28:09.615278Z",
     "iopub.status.busy": "2023-06-11T09:28:09.614746Z",
     "iopub.status.idle": "2023-06-11T09:28:09.620152Z",
     "shell.execute_reply": "2023-06-11T09:28:09.619071Z"
    },
    "papermill": {
     "duration": 0.01667,
     "end_time": "2023-06-11T09:28:09.622641",
     "exception": false,
     "start_time": "2023-06-11T09:28:09.605971",
     "status": "completed"
    },
    "tags": []
   },
   "outputs": [],
   "source": [
    "def crop_object_with_bbox(np_img, bbox):\n",
    "    x, y, x2, y2 = [int(i) for i in bbox]\n",
    "    return np_img[y:y2, x:x2].astype('float32')"
   ]
  },
  {
   "cell_type": "code",
   "execution_count": 8,
   "id": "1814dfe5",
   "metadata": {
    "execution": {
     "iopub.execute_input": "2023-06-11T09:28:09.638495Z",
     "iopub.status.busy": "2023-06-11T09:28:09.638223Z",
     "iopub.status.idle": "2023-06-11T09:28:09.643584Z",
     "shell.execute_reply": "2023-06-11T09:28:09.642780Z"
    },
    "papermill": {
     "duration": 0.01567,
     "end_time": "2023-06-11T09:28:09.645721",
     "exception": false,
     "start_time": "2023-06-11T09:28:09.630051",
     "status": "completed"
    },
    "tags": []
   },
   "outputs": [],
   "source": [
    "# Dataset paths\n",
    "rpc_main_path = '/kaggle/input/retail-product-checkout-dataset'\n",
    "# Dimension of the feature vector obtained from DINO\n",
    "FEATURE_DIM = 384"
   ]
  },
  {
   "cell_type": "code",
   "execution_count": 9,
   "id": "6fac68cb",
   "metadata": {
    "execution": {
     "iopub.execute_input": "2023-06-11T09:28:09.661899Z",
     "iopub.status.busy": "2023-06-11T09:28:09.661628Z",
     "iopub.status.idle": "2023-06-11T09:28:10.957860Z",
     "shell.execute_reply": "2023-06-11T09:28:10.956769Z"
    },
    "papermill": {
     "duration": 1.307438,
     "end_time": "2023-06-11T09:28:10.960631",
     "exception": false,
     "start_time": "2023-06-11T09:28:09.653193",
     "status": "completed"
    },
    "tags": []
   },
   "outputs": [],
   "source": [
    "from dataset.RPCDataset import RPCDataset\n",
    "val_dataset = RPCDataset(rpc_main_path, 'val')\n",
    "sub_classes = val_dataset.get_class_names()\n",
    "device = \"cuda\" if torch.cuda.is_available() else \"cpu\""
   ]
  },
  {
   "cell_type": "code",
   "execution_count": 10,
   "id": "5647b1a3",
   "metadata": {
    "execution": {
     "iopub.execute_input": "2023-06-11T09:28:10.978987Z",
     "iopub.status.busy": "2023-06-11T09:28:10.977263Z",
     "iopub.status.idle": "2023-06-11T09:28:10.994896Z",
     "shell.execute_reply": "2023-06-11T09:28:10.993938Z"
    },
    "papermill": {
     "duration": 0.028661,
     "end_time": "2023-06-11T09:28:10.997192",
     "exception": false,
     "start_time": "2023-06-11T09:28:10.968531",
     "status": "completed"
    },
    "tags": []
   },
   "outputs": [],
   "source": [
    "with open('/kaggle/input/di-lab-idea2-artifacts/Idea2-Files/VitH/train_config.json', 'r') as jfile:\n",
    "    train_config = json.load(jfile)"
   ]
  },
  {
   "cell_type": "code",
   "execution_count": 11,
   "id": "e53c2e41",
   "metadata": {
    "execution": {
     "iopub.execute_input": "2023-06-11T09:28:11.013491Z",
     "iopub.status.busy": "2023-06-11T09:28:11.013207Z",
     "iopub.status.idle": "2023-06-11T09:28:11.024969Z",
     "shell.execute_reply": "2023-06-11T09:28:11.024140Z"
    },
    "papermill": {
     "duration": 0.022274,
     "end_time": "2023-06-11T09:28:11.026901",
     "exception": false,
     "start_time": "2023-06-11T09:28:11.004627",
     "status": "completed"
    },
    "tags": []
   },
   "outputs": [],
   "source": [
    "class Prediction:\n",
    "    def __init__(self, img_name, img_path, pred_bbox, pred_score_bbox):\n",
    "        self.img_name = img_name\n",
    "        self.img_path = img_path\n",
    "        \n",
    "        if pred_bbox is not None:\n",
    "            self.pred_bbox = pred_bbox.tolist()\n",
    "        else:\n",
    "            self.pred_bbox = None\n",
    "            \n",
    "        self.pred_score_bbox = pred_score_bbox\n",
    "\n",
    "        # Obtained when prediction matches with a gt bounding box\n",
    "        self.gt_bbox = None\n",
    "        self.gt_label = None\n",
    "\n",
    "        # Obtained from knn\n",
    "        self.pred_label = None\n",
    "        # Obtained from knn by measuring mean distance to its predicted label\n",
    "        self.class_score = None\n",
    "        self.pred_features = None\n",
    "        self.is_train = None\n",
    "        \n",
    "    def add_gt_bbox(self, gt_bbox, gt_label, train_class_flag):\n",
    "        self.gt_bbox = gt_bbox\n",
    "        self.gt_label = gt_label\n",
    "        self.is_train = train_class_flag\n",
    "    \n",
    "    def add_feature_vector(self, feature_vector):\n",
    "        self.pred_features = feature_vector.tolist()\n",
    "    \n",
    "    def add_classification_res(self, pred_label, mean_dist):\n",
    "        self.pred_label = pred_label\n",
    "        self.class_score = mean_dist\n",
    "        \n",
    "    def to_dict(self):\n",
    "        return {\n",
    "            'img_name': self.img_name,\n",
    "            'img_path': self.img_path,\n",
    "            'pred_bbox': self.pred_bbox,\n",
    "            'pred_score_bbox': self.pred_score_bbox,\n",
    "            'gt_bbox': self.gt_bbox,\n",
    "            'gt_label': self.gt_label,\n",
    "            'pred_label': self.pred_label,\n",
    "            'class_score': self.class_score,\n",
    "            'pred_features': self.pred_features,\n",
    "            'is_train': self.is_train\n",
    "        }\n",
    "    \n",
    "    def read_dict(self, content):\n",
    "        self.img_name = content['img_name']\n",
    "        self.img_path = content['img_path']\n",
    "        self.pred_bbox = content['pred_bbox']\n",
    "        \n",
    "        self.pred_score_bbox = content['pred_score_bbox']\n",
    "        self.gt_bbox = content['gt_bbox']\n",
    "        self.gt_label = content['gt_label']\n",
    "        self.pred_label = content['pred_label']\n",
    "        self.class_score = content['class_score']\n",
    "        self.pred_features = content['pred_features']\n",
    "        self.is_train = content['is_train']"
   ]
  },
  {
   "cell_type": "code",
   "execution_count": 12,
   "id": "aed06844",
   "metadata": {
    "execution": {
     "iopub.execute_input": "2023-06-11T09:28:11.042636Z",
     "iopub.status.busy": "2023-06-11T09:28:11.042383Z",
     "iopub.status.idle": "2023-06-11T09:28:18.059831Z",
     "shell.execute_reply": "2023-06-11T09:28:18.058761Z"
    },
    "papermill": {
     "duration": 7.028433,
     "end_time": "2023-06-11T09:28:18.062724",
     "exception": false,
     "start_time": "2023-06-11T09:28:11.034291",
     "status": "completed"
    },
    "tags": []
   },
   "outputs": [
    {
     "name": "stderr",
     "output_type": "stream",
     "text": [
      "Downloading: \"https://github.com/facebookresearch/dinov2/zipball/main\" to /root/.cache/torch/hub/main.zip\n",
      "Downloading: \"https://dl.fbaipublicfiles.com/dinov2/dinov2_vits14/dinov2_vits14_pretrain.pth\" to /root/.cache/torch/hub/checkpoints/dinov2_vits14_pretrain.pth\n",
      "100%|██████████| 84.2M/84.2M [00:00<00:00, 163MB/s]\n"
     ]
    }
   ],
   "source": [
    "from models.DINO import DINOFeatureExtractor\n",
    "feat_extractor = DINOFeatureExtractor()"
   ]
  },
  {
   "cell_type": "code",
   "execution_count": 13,
   "id": "0570acae",
   "metadata": {
    "execution": {
     "iopub.execute_input": "2023-06-11T09:28:18.080345Z",
     "iopub.status.busy": "2023-06-11T09:28:18.079992Z",
     "iopub.status.idle": "2023-06-11T09:28:18.087355Z",
     "shell.execute_reply": "2023-06-11T09:28:18.086357Z"
    },
    "papermill": {
     "duration": 0.018771,
     "end_time": "2023-06-11T09:28:18.089779",
     "exception": false,
     "start_time": "2023-06-11T09:28:18.071008",
     "status": "completed"
    },
    "tags": []
   },
   "outputs": [],
   "source": [
    "def read_pred_objects_json(json_path):\n",
    "    pred_objects = []\n",
    "    with open(json_path, \"r\") as jfile:\n",
    "        json_objects = json.load(jfile)    \n",
    "    \n",
    "    for json_object in json_objects:\n",
    "        cur_object = Prediction(\"\", \"\", np.array([]), 0.0)\n",
    "        cur_object.read_dict(json_object)\n",
    "        pred_objects.append(cur_object)\n",
    "    return pred_objects\n",
    "\n",
    "def get_pred_objects_per_image(pred_objects):\n",
    "    img_names = list(set([pobject.img_name for pobject in pred_objects]))\n",
    "    objects_per_img = {}\n",
    "    for img_name in img_names:\n",
    "        img_objects = [pobject for pobject in pred_objects if pobject.img_name == img_name]\n",
    "        objects_per_img[img_name] = img_objects\n",
    "    return objects_per_img"
   ]
  },
  {
   "cell_type": "code",
   "execution_count": 14,
   "id": "f8b20151",
   "metadata": {
    "execution": {
     "iopub.execute_input": "2023-06-11T09:28:18.107906Z",
     "iopub.status.busy": "2023-06-11T09:28:18.107392Z",
     "iopub.status.idle": "2023-06-11T09:28:18.116183Z",
     "shell.execute_reply": "2023-06-11T09:28:18.115191Z"
    },
    "papermill": {
     "duration": 0.019989,
     "end_time": "2023-06-11T09:28:18.118131",
     "exception": false,
     "start_time": "2023-06-11T09:28:18.098142",
     "status": "completed"
    },
    "tags": []
   },
   "outputs": [],
   "source": [
    "def find_feature_vector_for_bbox(pred_objects):\n",
    "    pred_objects_per_image = get_pred_objects_per_image(pred_objects)\n",
    "    processed_pred_objects = []\n",
    "    with torch.no_grad():\n",
    "        for img_name in tqdm(pred_objects_per_image):\n",
    "\n",
    "            img_pred_objects = pred_objects_per_image[img_name]\n",
    "            img_path = img_pred_objects[0].img_path\n",
    "\n",
    "            pil_img = Image.open(img_path)\n",
    "            np_img = np.asarray(pil_img)\n",
    "\n",
    "            for pred_object in img_pred_objects:\n",
    "                if pred_object.pred_bbox is None:\n",
    "                    continue\n",
    "                if (pred_object.pred_bbox[2] - pred_object.pred_bbox[0]) < 1 or (pred_object.pred_bbox[3] - pred_object.pred_bbox[1]) < 1:\n",
    "                    continue\n",
    "\n",
    "                cropped_object_np_img = crop_object_with_bbox(np_img, pred_object.pred_bbox)\n",
    "                h,w,_ = cropped_object_np_img.shape\n",
    "\n",
    "                sample_feature = feat_extractor.predict(cropped_object_np_img)\n",
    "                sample_feature = sample_feature.cpu().numpy()\n",
    "                \n",
    "                pred_object.add_feature_vector(sample_feature)\n",
    "                processed_pred_objects.append(pred_object)\n",
    "    return processed_pred_objects"
   ]
  },
  {
   "cell_type": "code",
   "execution_count": 15,
   "id": "250b7927",
   "metadata": {
    "execution": {
     "iopub.execute_input": "2023-06-11T09:28:18.136663Z",
     "iopub.status.busy": "2023-06-11T09:28:18.135882Z",
     "iopub.status.idle": "2023-06-11T09:28:18.140957Z",
     "shell.execute_reply": "2023-06-11T09:28:18.140019Z"
    },
    "papermill": {
     "duration": 0.016376,
     "end_time": "2023-06-11T09:28:18.143046",
     "exception": false,
     "start_time": "2023-06-11T09:28:18.126670",
     "status": "completed"
    },
    "tags": []
   },
   "outputs": [],
   "source": [
    "def dump_pred_objects(prediction_objects, jpath):\n",
    "    json_content = [pred_object.to_dict() for pred_object in prediction_objects]\n",
    "    with open(jpath, \"w\") as jfile:\n",
    "        json.dump(json_content, jfile)"
   ]
  },
  {
   "cell_type": "code",
   "execution_count": 16,
   "id": "6571f0ff",
   "metadata": {
    "execution": {
     "iopub.execute_input": "2023-06-11T09:28:18.160855Z",
     "iopub.status.busy": "2023-06-11T09:28:18.160038Z",
     "iopub.status.idle": "2023-06-11T11:57:50.607799Z",
     "shell.execute_reply": "2023-06-11T11:57:50.606732Z"
    },
    "papermill": {
     "duration": 8972.4594,
     "end_time": "2023-06-11T11:57:50.610385",
     "exception": false,
     "start_time": "2023-06-11T09:28:18.150985",
     "status": "completed"
    },
    "tags": []
   },
   "outputs": [
    {
     "data": {
      "application/vnd.jupyter.widget-view+json": {
       "model_id": "5ac715a4650d411685a2973564a6852e",
       "version_major": 2,
       "version_minor": 0
      },
      "text/plain": [
       "  0%|          | 0/4800 [00:00<?, ?it/s]"
      ]
     },
     "metadata": {},
     "output_type": "display_data"
    },
    {
     "data": {
      "application/vnd.jupyter.widget-view+json": {
       "model_id": "1e09220b4d57492fa2268175a049ccbd",
       "version_major": 2,
       "version_minor": 0
      },
      "text/plain": [
       "  0%|          | 0/4800 [00:00<?, ?it/s]"
      ]
     },
     "metadata": {},
     "output_type": "display_data"
    },
    {
     "data": {
      "application/vnd.jupyter.widget-view+json": {
       "model_id": "4f80c223bc93438484a7f5b55aabac64",
       "version_major": 2,
       "version_minor": 0
      },
      "text/plain": [
       "  0%|          | 0/1200 [00:00<?, ?it/s]"
      ]
     },
     "metadata": {},
     "output_type": "display_data"
    },
    {
     "data": {
      "application/vnd.jupyter.widget-view+json": {
       "model_id": "4518cbd33b98432291efd5c4279f93d6",
       "version_major": 2,
       "version_minor": 0
      },
      "text/plain": [
       "  0%|          | 0/1200 [00:00<?, ?it/s]"
      ]
     },
     "metadata": {},
     "output_type": "display_data"
    }
   ],
   "source": [
    "pred_objects = read_pred_objects_json(\"/kaggle/input/di-lab-idea2-artifacts/Idea2-Files/VitH/vith_res_train_pred_objects.json\")\n",
    "feature_extracted_pred_objects = find_feature_vector_for_bbox(pred_objects)\n",
    "dump_pred_objects(feature_extracted_pred_objects, \"../vith_res_train_pred_objects_2.json\")\n",
    "\n",
    "pred_objects = read_pred_objects_json(\"/kaggle/input/di-lab-idea2-artifacts/Idea2-Files/VitH/vith_res_train_processed_pred_objects.json\")\n",
    "feature_extracted_pred_objects = find_feature_vector_for_bbox(pred_objects)\n",
    "dump_pred_objects(feature_extracted_pred_objects, \"../vith_res_train_processed_pred_objects_2.json\")\n",
    "\n",
    "pred_objects = read_pred_objects_json(\"/kaggle/input/di-lab-idea2-artifacts/Idea2-Files/VitH/vith_res_val_pred_objects.json\")\n",
    "feature_extracted_pred_objects = find_feature_vector_for_bbox(pred_objects)\n",
    "dump_pred_objects(feature_extracted_pred_objects, \"../vith_res_val_pred_objects_2.json\")\n",
    "\n",
    "pred_objects = read_pred_objects_json(\"/kaggle/input/di-lab-idea2-artifacts/Idea2-Files/VitH/vith_res_val_processed_pred_objects.json\")\n",
    "feature_extracted_pred_objects = find_feature_vector_for_bbox(pred_objects)\n",
    "dump_pred_objects(feature_extracted_pred_objects, \"../vith_res_val_processed_pred_objects_2.json\")\n"
   ]
  },
  {
   "cell_type": "code",
   "execution_count": null,
   "id": "206951c6",
   "metadata": {
    "execution": {
     "iopub.execute_input": "2023-06-11T09:25:31.245679Z",
     "iopub.status.busy": "2023-06-11T09:25:31.245189Z",
     "iopub.status.idle": "2023-06-11T09:25:31.256489Z",
     "shell.execute_reply": "2023-06-11T09:25:31.255353Z",
     "shell.execute_reply.started": "2023-06-11T09:25:31.245645Z"
    },
    "papermill": {
     "duration": 0.00918,
     "end_time": "2023-06-11T11:57:50.628698",
     "exception": false,
     "start_time": "2023-06-11T11:57:50.619518",
     "status": "completed"
    },
    "tags": []
   },
   "outputs": [],
   "source": []
  },
  {
   "cell_type": "code",
   "execution_count": null,
   "id": "1cc1d519",
   "metadata": {
    "papermill": {
     "duration": 0.008881,
     "end_time": "2023-06-11T11:57:50.647072",
     "exception": false,
     "start_time": "2023-06-11T11:57:50.638191",
     "status": "completed"
    },
    "tags": []
   },
   "outputs": [],
   "source": []
  }
 ],
 "metadata": {
  "kernelspec": {
   "display_name": "Python 3",
   "language": "python",
   "name": "python3"
  },
  "language_info": {
   "codemirror_mode": {
    "name": "ipython",
    "version": 3
   },
   "file_extension": ".py",
   "mimetype": "text/x-python",
   "name": "python",
   "nbconvert_exporter": "python",
   "pygments_lexer": "ipython3",
   "version": "3.10.10"
  },
  "papermill": {
   "default_parameters": {},
   "duration": 9034.779386,
   "end_time": "2023-06-11T11:57:53.496689",
   "environment_variables": {},
   "exception": null,
   "input_path": "__notebook__.ipynb",
   "output_path": "__notebook__.ipynb",
   "parameters": {},
   "start_time": "2023-06-11T09:27:18.717303",
   "version": "2.4.0"
  },
  "widgets": {
   "application/vnd.jupyter.widget-state+json": {
    "state": {
     "12426a1c7e9a45cfbb0d90bfde897ec0": {
      "model_module": "@jupyter-widgets/base",
      "model_module_version": "1.2.0",
      "model_name": "LayoutModel",
      "state": {
       "_model_module": "@jupyter-widgets/base",
       "_model_module_version": "1.2.0",
       "_model_name": "LayoutModel",
       "_view_count": null,
       "_view_module": "@jupyter-widgets/base",
       "_view_module_version": "1.2.0",
       "_view_name": "LayoutView",
       "align_content": null,
       "align_items": null,
       "align_self": null,
       "border": null,
       "bottom": null,
       "display": null,
       "flex": null,
       "flex_flow": null,
       "grid_area": null,
       "grid_auto_columns": null,
       "grid_auto_flow": null,
       "grid_auto_rows": null,
       "grid_column": null,
       "grid_gap": null,
       "grid_row": null,
       "grid_template_areas": null,
       "grid_template_columns": null,
       "grid_template_rows": null,
       "height": null,
       "justify_content": null,
       "justify_items": null,
       "left": null,
       "margin": null,
       "max_height": null,
       "max_width": null,
       "min_height": null,
       "min_width": null,
       "object_fit": null,
       "object_position": null,
       "order": null,
       "overflow": null,
       "overflow_x": null,
       "overflow_y": null,
       "padding": null,
       "right": null,
       "top": null,
       "visibility": null,
       "width": null
      }
     },
     "13de10327c5142f8b0f5db1933a5ccee": {
      "model_module": "@jupyter-widgets/controls",
      "model_module_version": "1.5.0",
      "model_name": "FloatProgressModel",
      "state": {
       "_dom_classes": [],
       "_model_module": "@jupyter-widgets/controls",
       "_model_module_version": "1.5.0",
       "_model_name": "FloatProgressModel",
       "_view_count": null,
       "_view_module": "@jupyter-widgets/controls",
       "_view_module_version": "1.5.0",
       "_view_name": "ProgressView",
       "bar_style": "success",
       "description": "",
       "description_tooltip": null,
       "layout": "IPY_MODEL_8fa4f1d643a140efadcbaea6a0575248",
       "max": 1200.0,
       "min": 0.0,
       "orientation": "horizontal",
       "style": "IPY_MODEL_deef55813d054500b014094778772891",
       "value": 1200.0
      }
     },
     "19522526d2dc4f49987107733b3d389f": {
      "model_module": "@jupyter-widgets/base",
      "model_module_version": "1.2.0",
      "model_name": "LayoutModel",
      "state": {
       "_model_module": "@jupyter-widgets/base",
       "_model_module_version": "1.2.0",
       "_model_name": "LayoutModel",
       "_view_count": null,
       "_view_module": "@jupyter-widgets/base",
       "_view_module_version": "1.2.0",
       "_view_name": "LayoutView",
       "align_content": null,
       "align_items": null,
       "align_self": null,
       "border": null,
       "bottom": null,
       "display": null,
       "flex": null,
       "flex_flow": null,
       "grid_area": null,
       "grid_auto_columns": null,
       "grid_auto_flow": null,
       "grid_auto_rows": null,
       "grid_column": null,
       "grid_gap": null,
       "grid_row": null,
       "grid_template_areas": null,
       "grid_template_columns": null,
       "grid_template_rows": null,
       "height": null,
       "justify_content": null,
       "justify_items": null,
       "left": null,
       "margin": null,
       "max_height": null,
       "max_width": null,
       "min_height": null,
       "min_width": null,
       "object_fit": null,
       "object_position": null,
       "order": null,
       "overflow": null,
       "overflow_x": null,
       "overflow_y": null,
       "padding": null,
       "right": null,
       "top": null,
       "visibility": null,
       "width": null
      }
     },
     "1e09220b4d57492fa2268175a049ccbd": {
      "model_module": "@jupyter-widgets/controls",
      "model_module_version": "1.5.0",
      "model_name": "HBoxModel",
      "state": {
       "_dom_classes": [],
       "_model_module": "@jupyter-widgets/controls",
       "_model_module_version": "1.5.0",
       "_model_name": "HBoxModel",
       "_view_count": null,
       "_view_module": "@jupyter-widgets/controls",
       "_view_module_version": "1.5.0",
       "_view_name": "HBoxView",
       "box_style": "",
       "children": [
        "IPY_MODEL_8a9d66a273fc4f52a58522a56cdfe98b",
        "IPY_MODEL_e1b9261722e64914b127d45675f04439",
        "IPY_MODEL_f6b8b9c7e7bf4157b22e92a26a114712"
       ],
       "layout": "IPY_MODEL_e0a677e790da4b379589cf7a2c9038dc"
      }
     },
     "20edf51075da41338378c60b4e059244": {
      "model_module": "@jupyter-widgets/controls",
      "model_module_version": "1.5.0",
      "model_name": "DescriptionStyleModel",
      "state": {
       "_model_module": "@jupyter-widgets/controls",
       "_model_module_version": "1.5.0",
       "_model_name": "DescriptionStyleModel",
       "_view_count": null,
       "_view_module": "@jupyter-widgets/base",
       "_view_module_version": "1.2.0",
       "_view_name": "StyleView",
       "description_width": ""
      }
     },
     "24972c712f8b44c58357c409092d6595": {
      "model_module": "@jupyter-widgets/controls",
      "model_module_version": "1.5.0",
      "model_name": "HTMLModel",
      "state": {
       "_dom_classes": [],
       "_model_module": "@jupyter-widgets/controls",
       "_model_module_version": "1.5.0",
       "_model_name": "HTMLModel",
       "_view_count": null,
       "_view_module": "@jupyter-widgets/controls",
       "_view_module_version": "1.5.0",
       "_view_name": "HTMLView",
       "description": "",
       "description_tooltip": null,
       "layout": "IPY_MODEL_2db5469332624853b6f8b7a6f089d100",
       "placeholder": "​",
       "style": "IPY_MODEL_edd32c57433148fda10dcd86e53b66c8",
       "value": "100%"
      }
     },
     "263cc4b8b7604e53ab05c99b564f4a34": {
      "model_module": "@jupyter-widgets/controls",
      "model_module_version": "1.5.0",
      "model_name": "DescriptionStyleModel",
      "state": {
       "_model_module": "@jupyter-widgets/controls",
       "_model_module_version": "1.5.0",
       "_model_name": "DescriptionStyleModel",
       "_view_count": null,
       "_view_module": "@jupyter-widgets/base",
       "_view_module_version": "1.2.0",
       "_view_name": "StyleView",
       "description_width": ""
      }
     },
     "27504f3b2fa84943b33343425c456279": {
      "model_module": "@jupyter-widgets/controls",
      "model_module_version": "1.5.0",
      "model_name": "ProgressStyleModel",
      "state": {
       "_model_module": "@jupyter-widgets/controls",
       "_model_module_version": "1.5.0",
       "_model_name": "ProgressStyleModel",
       "_view_count": null,
       "_view_module": "@jupyter-widgets/base",
       "_view_module_version": "1.2.0",
       "_view_name": "StyleView",
       "bar_color": null,
       "description_width": ""
      }
     },
     "2d4128d4689f4623905fb90bff05f625": {
      "model_module": "@jupyter-widgets/controls",
      "model_module_version": "1.5.0",
      "model_name": "HTMLModel",
      "state": {
       "_dom_classes": [],
       "_model_module": "@jupyter-widgets/controls",
       "_model_module_version": "1.5.0",
       "_model_name": "HTMLModel",
       "_view_count": null,
       "_view_module": "@jupyter-widgets/controls",
       "_view_module_version": "1.5.0",
       "_view_name": "HTMLView",
       "description": "",
       "description_tooltip": null,
       "layout": "IPY_MODEL_efeb4a98edc047d78ca4f5d6b5f48a45",
       "placeholder": "​",
       "style": "IPY_MODEL_3ae3486cc865435aa547d3d4d385d1fe",
       "value": "100%"
      }
     },
     "2db5469332624853b6f8b7a6f089d100": {
      "model_module": "@jupyter-widgets/base",
      "model_module_version": "1.2.0",
      "model_name": "LayoutModel",
      "state": {
       "_model_module": "@jupyter-widgets/base",
       "_model_module_version": "1.2.0",
       "_model_name": "LayoutModel",
       "_view_count": null,
       "_view_module": "@jupyter-widgets/base",
       "_view_module_version": "1.2.0",
       "_view_name": "LayoutView",
       "align_content": null,
       "align_items": null,
       "align_self": null,
       "border": null,
       "bottom": null,
       "display": null,
       "flex": null,
       "flex_flow": null,
       "grid_area": null,
       "grid_auto_columns": null,
       "grid_auto_flow": null,
       "grid_auto_rows": null,
       "grid_column": null,
       "grid_gap": null,
       "grid_row": null,
       "grid_template_areas": null,
       "grid_template_columns": null,
       "grid_template_rows": null,
       "height": null,
       "justify_content": null,
       "justify_items": null,
       "left": null,
       "margin": null,
       "max_height": null,
       "max_width": null,
       "min_height": null,
       "min_width": null,
       "object_fit": null,
       "object_position": null,
       "order": null,
       "overflow": null,
       "overflow_x": null,
       "overflow_y": null,
       "padding": null,
       "right": null,
       "top": null,
       "visibility": null,
       "width": null
      }
     },
     "32a67f71721c48cdb2fa5541694baae0": {
      "model_module": "@jupyter-widgets/base",
      "model_module_version": "1.2.0",
      "model_name": "LayoutModel",
      "state": {
       "_model_module": "@jupyter-widgets/base",
       "_model_module_version": "1.2.0",
       "_model_name": "LayoutModel",
       "_view_count": null,
       "_view_module": "@jupyter-widgets/base",
       "_view_module_version": "1.2.0",
       "_view_name": "LayoutView",
       "align_content": null,
       "align_items": null,
       "align_self": null,
       "border": null,
       "bottom": null,
       "display": null,
       "flex": null,
       "flex_flow": null,
       "grid_area": null,
       "grid_auto_columns": null,
       "grid_auto_flow": null,
       "grid_auto_rows": null,
       "grid_column": null,
       "grid_gap": null,
       "grid_row": null,
       "grid_template_areas": null,
       "grid_template_columns": null,
       "grid_template_rows": null,
       "height": null,
       "justify_content": null,
       "justify_items": null,
       "left": null,
       "margin": null,
       "max_height": null,
       "max_width": null,
       "min_height": null,
       "min_width": null,
       "object_fit": null,
       "object_position": null,
       "order": null,
       "overflow": null,
       "overflow_x": null,
       "overflow_y": null,
       "padding": null,
       "right": null,
       "top": null,
       "visibility": null,
       "width": null
      }
     },
     "3ae3486cc865435aa547d3d4d385d1fe": {
      "model_module": "@jupyter-widgets/controls",
      "model_module_version": "1.5.0",
      "model_name": "DescriptionStyleModel",
      "state": {
       "_model_module": "@jupyter-widgets/controls",
       "_model_module_version": "1.5.0",
       "_model_name": "DescriptionStyleModel",
       "_view_count": null,
       "_view_module": "@jupyter-widgets/base",
       "_view_module_version": "1.2.0",
       "_view_name": "StyleView",
       "description_width": ""
      }
     },
     "4518cbd33b98432291efd5c4279f93d6": {
      "model_module": "@jupyter-widgets/controls",
      "model_module_version": "1.5.0",
      "model_name": "HBoxModel",
      "state": {
       "_dom_classes": [],
       "_model_module": "@jupyter-widgets/controls",
       "_model_module_version": "1.5.0",
       "_model_name": "HBoxModel",
       "_view_count": null,
       "_view_module": "@jupyter-widgets/controls",
       "_view_module_version": "1.5.0",
       "_view_name": "HBoxView",
       "box_style": "",
       "children": [
        "IPY_MODEL_2d4128d4689f4623905fb90bff05f625",
        "IPY_MODEL_13de10327c5142f8b0f5db1933a5ccee",
        "IPY_MODEL_47e53b984a884a08a486120aa0dd842a"
       ],
       "layout": "IPY_MODEL_c062767aa0984b6897cef3306aabbf44"
      }
     },
     "47e53b984a884a08a486120aa0dd842a": {
      "model_module": "@jupyter-widgets/controls",
      "model_module_version": "1.5.0",
      "model_name": "HTMLModel",
      "state": {
       "_dom_classes": [],
       "_model_module": "@jupyter-widgets/controls",
       "_model_module_version": "1.5.0",
       "_model_name": "HTMLModel",
       "_view_count": null,
       "_view_module": "@jupyter-widgets/controls",
       "_view_module_version": "1.5.0",
       "_view_name": "HTMLView",
       "description": "",
       "description_tooltip": null,
       "layout": "IPY_MODEL_4b859189d53e47829654c90685503f04",
       "placeholder": "​",
       "style": "IPY_MODEL_a4ba83d21586463886f47aa0ebd3ca1b",
       "value": " 1200/1200 [13:10&lt;00:00,  1.54it/s]"
      }
     },
     "4821b93af7e049709879642cca1663e3": {
      "model_module": "@jupyter-widgets/base",
      "model_module_version": "1.2.0",
      "model_name": "LayoutModel",
      "state": {
       "_model_module": "@jupyter-widgets/base",
       "_model_module_version": "1.2.0",
       "_model_name": "LayoutModel",
       "_view_count": null,
       "_view_module": "@jupyter-widgets/base",
       "_view_module_version": "1.2.0",
       "_view_name": "LayoutView",
       "align_content": null,
       "align_items": null,
       "align_self": null,
       "border": null,
       "bottom": null,
       "display": null,
       "flex": null,
       "flex_flow": null,
       "grid_area": null,
       "grid_auto_columns": null,
       "grid_auto_flow": null,
       "grid_auto_rows": null,
       "grid_column": null,
       "grid_gap": null,
       "grid_row": null,
       "grid_template_areas": null,
       "grid_template_columns": null,
       "grid_template_rows": null,
       "height": null,
       "justify_content": null,
       "justify_items": null,
       "left": null,
       "margin": null,
       "max_height": null,
       "max_width": null,
       "min_height": null,
       "min_width": null,
       "object_fit": null,
       "object_position": null,
       "order": null,
       "overflow": null,
       "overflow_x": null,
       "overflow_y": null,
       "padding": null,
       "right": null,
       "top": null,
       "visibility": null,
       "width": null
      }
     },
     "49b16edae6d749f79a0431d877226af7": {
      "model_module": "@jupyter-widgets/base",
      "model_module_version": "1.2.0",
      "model_name": "LayoutModel",
      "state": {
       "_model_module": "@jupyter-widgets/base",
       "_model_module_version": "1.2.0",
       "_model_name": "LayoutModel",
       "_view_count": null,
       "_view_module": "@jupyter-widgets/base",
       "_view_module_version": "1.2.0",
       "_view_name": "LayoutView",
       "align_content": null,
       "align_items": null,
       "align_self": null,
       "border": null,
       "bottom": null,
       "display": null,
       "flex": null,
       "flex_flow": null,
       "grid_area": null,
       "grid_auto_columns": null,
       "grid_auto_flow": null,
       "grid_auto_rows": null,
       "grid_column": null,
       "grid_gap": null,
       "grid_row": null,
       "grid_template_areas": null,
       "grid_template_columns": null,
       "grid_template_rows": null,
       "height": null,
       "justify_content": null,
       "justify_items": null,
       "left": null,
       "margin": null,
       "max_height": null,
       "max_width": null,
       "min_height": null,
       "min_width": null,
       "object_fit": null,
       "object_position": null,
       "order": null,
       "overflow": null,
       "overflow_x": null,
       "overflow_y": null,
       "padding": null,
       "right": null,
       "top": null,
       "visibility": null,
       "width": null
      }
     },
     "4b859189d53e47829654c90685503f04": {
      "model_module": "@jupyter-widgets/base",
      "model_module_version": "1.2.0",
      "model_name": "LayoutModel",
      "state": {
       "_model_module": "@jupyter-widgets/base",
       "_model_module_version": "1.2.0",
       "_model_name": "LayoutModel",
       "_view_count": null,
       "_view_module": "@jupyter-widgets/base",
       "_view_module_version": "1.2.0",
       "_view_name": "LayoutView",
       "align_content": null,
       "align_items": null,
       "align_self": null,
       "border": null,
       "bottom": null,
       "display": null,
       "flex": null,
       "flex_flow": null,
       "grid_area": null,
       "grid_auto_columns": null,
       "grid_auto_flow": null,
       "grid_auto_rows": null,
       "grid_column": null,
       "grid_gap": null,
       "grid_row": null,
       "grid_template_areas": null,
       "grid_template_columns": null,
       "grid_template_rows": null,
       "height": null,
       "justify_content": null,
       "justify_items": null,
       "left": null,
       "margin": null,
       "max_height": null,
       "max_width": null,
       "min_height": null,
       "min_width": null,
       "object_fit": null,
       "object_position": null,
       "order": null,
       "overflow": null,
       "overflow_x": null,
       "overflow_y": null,
       "padding": null,
       "right": null,
       "top": null,
       "visibility": null,
       "width": null
      }
     },
     "4f80c223bc93438484a7f5b55aabac64": {
      "model_module": "@jupyter-widgets/controls",
      "model_module_version": "1.5.0",
      "model_name": "HBoxModel",
      "state": {
       "_dom_classes": [],
       "_model_module": "@jupyter-widgets/controls",
       "_model_module_version": "1.5.0",
       "_model_name": "HBoxModel",
       "_view_count": null,
       "_view_module": "@jupyter-widgets/controls",
       "_view_module_version": "1.5.0",
       "_view_name": "HBoxView",
       "box_style": "",
       "children": [
        "IPY_MODEL_8842236ad3274c0599f6129643fc76e5",
        "IPY_MODEL_d79f270e448d4253b362e7e9b4a07aab",
        "IPY_MODEL_9b9105bdba7e4163806637b9f192d476"
       ],
       "layout": "IPY_MODEL_f0172b1eb9394eca8f3d515178e44f82"
      }
     },
     "5ac715a4650d411685a2973564a6852e": {
      "model_module": "@jupyter-widgets/controls",
      "model_module_version": "1.5.0",
      "model_name": "HBoxModel",
      "state": {
       "_dom_classes": [],
       "_model_module": "@jupyter-widgets/controls",
       "_model_module_version": "1.5.0",
       "_model_name": "HBoxModel",
       "_view_count": null,
       "_view_module": "@jupyter-widgets/controls",
       "_view_module_version": "1.5.0",
       "_view_name": "HBoxView",
       "box_style": "",
       "children": [
        "IPY_MODEL_24972c712f8b44c58357c409092d6595",
        "IPY_MODEL_97b0363542e149c19f2af5bab0bf89c2",
        "IPY_MODEL_a99b73618d544699a0058d3c6cfc0c2b"
       ],
       "layout": "IPY_MODEL_db8c280b8b334b5c9d4c7f7c60ee7db7"
      }
     },
     "6370d080ec794143be20c04d39cd331a": {
      "model_module": "@jupyter-widgets/controls",
      "model_module_version": "1.5.0",
      "model_name": "DescriptionStyleModel",
      "state": {
       "_model_module": "@jupyter-widgets/controls",
       "_model_module_version": "1.5.0",
       "_model_name": "DescriptionStyleModel",
       "_view_count": null,
       "_view_module": "@jupyter-widgets/base",
       "_view_module_version": "1.2.0",
       "_view_name": "StyleView",
       "description_width": ""
      }
     },
     "7a46f2830d3c4c42adef9090f86ae77d": {
      "model_module": "@jupyter-widgets/controls",
      "model_module_version": "1.5.0",
      "model_name": "ProgressStyleModel",
      "state": {
       "_model_module": "@jupyter-widgets/controls",
       "_model_module_version": "1.5.0",
       "_model_name": "ProgressStyleModel",
       "_view_count": null,
       "_view_module": "@jupyter-widgets/base",
       "_view_module_version": "1.2.0",
       "_view_name": "StyleView",
       "bar_color": null,
       "description_width": ""
      }
     },
     "864ec393610546afb2b0f316b825394e": {
      "model_module": "@jupyter-widgets/base",
      "model_module_version": "1.2.0",
      "model_name": "LayoutModel",
      "state": {
       "_model_module": "@jupyter-widgets/base",
       "_model_module_version": "1.2.0",
       "_model_name": "LayoutModel",
       "_view_count": null,
       "_view_module": "@jupyter-widgets/base",
       "_view_module_version": "1.2.0",
       "_view_name": "LayoutView",
       "align_content": null,
       "align_items": null,
       "align_self": null,
       "border": null,
       "bottom": null,
       "display": null,
       "flex": null,
       "flex_flow": null,
       "grid_area": null,
       "grid_auto_columns": null,
       "grid_auto_flow": null,
       "grid_auto_rows": null,
       "grid_column": null,
       "grid_gap": null,
       "grid_row": null,
       "grid_template_areas": null,
       "grid_template_columns": null,
       "grid_template_rows": null,
       "height": null,
       "justify_content": null,
       "justify_items": null,
       "left": null,
       "margin": null,
       "max_height": null,
       "max_width": null,
       "min_height": null,
       "min_width": null,
       "object_fit": null,
       "object_position": null,
       "order": null,
       "overflow": null,
       "overflow_x": null,
       "overflow_y": null,
       "padding": null,
       "right": null,
       "top": null,
       "visibility": null,
       "width": null
      }
     },
     "8842236ad3274c0599f6129643fc76e5": {
      "model_module": "@jupyter-widgets/controls",
      "model_module_version": "1.5.0",
      "model_name": "HTMLModel",
      "state": {
       "_dom_classes": [],
       "_model_module": "@jupyter-widgets/controls",
       "_model_module_version": "1.5.0",
       "_model_name": "HTMLModel",
       "_view_count": null,
       "_view_module": "@jupyter-widgets/controls",
       "_view_module_version": "1.5.0",
       "_view_name": "HTMLView",
       "description": "",
       "description_tooltip": null,
       "layout": "IPY_MODEL_19522526d2dc4f49987107733b3d389f",
       "placeholder": "​",
       "style": "IPY_MODEL_6370d080ec794143be20c04d39cd331a",
       "value": "100%"
      }
     },
     "8a9d66a273fc4f52a58522a56cdfe98b": {
      "model_module": "@jupyter-widgets/controls",
      "model_module_version": "1.5.0",
      "model_name": "HTMLModel",
      "state": {
       "_dom_classes": [],
       "_model_module": "@jupyter-widgets/controls",
       "_model_module_version": "1.5.0",
       "_model_name": "HTMLModel",
       "_view_count": null,
       "_view_module": "@jupyter-widgets/controls",
       "_view_module_version": "1.5.0",
       "_view_name": "HTMLView",
       "description": "",
       "description_tooltip": null,
       "layout": "IPY_MODEL_4821b93af7e049709879642cca1663e3",
       "placeholder": "​",
       "style": "IPY_MODEL_20edf51075da41338378c60b4e059244",
       "value": "100%"
      }
     },
     "8e0d820ef81340f39626abcefaef3d3d": {
      "model_module": "@jupyter-widgets/controls",
      "model_module_version": "1.5.0",
      "model_name": "DescriptionStyleModel",
      "state": {
       "_model_module": "@jupyter-widgets/controls",
       "_model_module_version": "1.5.0",
       "_model_name": "DescriptionStyleModel",
       "_view_count": null,
       "_view_module": "@jupyter-widgets/base",
       "_view_module_version": "1.2.0",
       "_view_name": "StyleView",
       "description_width": ""
      }
     },
     "8fa4f1d643a140efadcbaea6a0575248": {
      "model_module": "@jupyter-widgets/base",
      "model_module_version": "1.2.0",
      "model_name": "LayoutModel",
      "state": {
       "_model_module": "@jupyter-widgets/base",
       "_model_module_version": "1.2.0",
       "_model_name": "LayoutModel",
       "_view_count": null,
       "_view_module": "@jupyter-widgets/base",
       "_view_module_version": "1.2.0",
       "_view_name": "LayoutView",
       "align_content": null,
       "align_items": null,
       "align_self": null,
       "border": null,
       "bottom": null,
       "display": null,
       "flex": null,
       "flex_flow": null,
       "grid_area": null,
       "grid_auto_columns": null,
       "grid_auto_flow": null,
       "grid_auto_rows": null,
       "grid_column": null,
       "grid_gap": null,
       "grid_row": null,
       "grid_template_areas": null,
       "grid_template_columns": null,
       "grid_template_rows": null,
       "height": null,
       "justify_content": null,
       "justify_items": null,
       "left": null,
       "margin": null,
       "max_height": null,
       "max_width": null,
       "min_height": null,
       "min_width": null,
       "object_fit": null,
       "object_position": null,
       "order": null,
       "overflow": null,
       "overflow_x": null,
       "overflow_y": null,
       "padding": null,
       "right": null,
       "top": null,
       "visibility": null,
       "width": null
      }
     },
     "97b0363542e149c19f2af5bab0bf89c2": {
      "model_module": "@jupyter-widgets/controls",
      "model_module_version": "1.5.0",
      "model_name": "FloatProgressModel",
      "state": {
       "_dom_classes": [],
       "_model_module": "@jupyter-widgets/controls",
       "_model_module_version": "1.5.0",
       "_model_name": "FloatProgressModel",
       "_view_count": null,
       "_view_module": "@jupyter-widgets/controls",
       "_view_module_version": "1.5.0",
       "_view_name": "ProgressView",
       "bar_style": "success",
       "description": "",
       "description_tooltip": null,
       "layout": "IPY_MODEL_12426a1c7e9a45cfbb0d90bfde897ec0",
       "max": 4800.0,
       "min": 0.0,
       "orientation": "horizontal",
       "style": "IPY_MODEL_9fe3fdf292904fe7bad13763329195ec",
       "value": 4800.0
      }
     },
     "9b9105bdba7e4163806637b9f192d476": {
      "model_module": "@jupyter-widgets/controls",
      "model_module_version": "1.5.0",
      "model_name": "HTMLModel",
      "state": {
       "_dom_classes": [],
       "_model_module": "@jupyter-widgets/controls",
       "_model_module_version": "1.5.0",
       "_model_name": "HTMLModel",
       "_view_count": null,
       "_view_module": "@jupyter-widgets/controls",
       "_view_module_version": "1.5.0",
       "_view_name": "HTMLView",
       "description": "",
       "description_tooltip": null,
       "layout": "IPY_MODEL_ab3343e574cc4dae8cc8a704d272b95c",
       "placeholder": "​",
       "style": "IPY_MODEL_8e0d820ef81340f39626abcefaef3d3d",
       "value": " 1200/1200 [15:59&lt;00:00,  1.20it/s]"
      }
     },
     "9fe3fdf292904fe7bad13763329195ec": {
      "model_module": "@jupyter-widgets/controls",
      "model_module_version": "1.5.0",
      "model_name": "ProgressStyleModel",
      "state": {
       "_model_module": "@jupyter-widgets/controls",
       "_model_module_version": "1.5.0",
       "_model_name": "ProgressStyleModel",
       "_view_count": null,
       "_view_module": "@jupyter-widgets/base",
       "_view_module_version": "1.2.0",
       "_view_name": "StyleView",
       "bar_color": null,
       "description_width": ""
      }
     },
     "a4665ccb3ebe48a8b1a5bfcbb2759be7": {
      "model_module": "@jupyter-widgets/controls",
      "model_module_version": "1.5.0",
      "model_name": "DescriptionStyleModel",
      "state": {
       "_model_module": "@jupyter-widgets/controls",
       "_model_module_version": "1.5.0",
       "_model_name": "DescriptionStyleModel",
       "_view_count": null,
       "_view_module": "@jupyter-widgets/base",
       "_view_module_version": "1.2.0",
       "_view_name": "StyleView",
       "description_width": ""
      }
     },
     "a4ba83d21586463886f47aa0ebd3ca1b": {
      "model_module": "@jupyter-widgets/controls",
      "model_module_version": "1.5.0",
      "model_name": "DescriptionStyleModel",
      "state": {
       "_model_module": "@jupyter-widgets/controls",
       "_model_module_version": "1.5.0",
       "_model_name": "DescriptionStyleModel",
       "_view_count": null,
       "_view_module": "@jupyter-widgets/base",
       "_view_module_version": "1.2.0",
       "_view_name": "StyleView",
       "description_width": ""
      }
     },
     "a99b73618d544699a0058d3c6cfc0c2b": {
      "model_module": "@jupyter-widgets/controls",
      "model_module_version": "1.5.0",
      "model_name": "HTMLModel",
      "state": {
       "_dom_classes": [],
       "_model_module": "@jupyter-widgets/controls",
       "_model_module_version": "1.5.0",
       "_model_name": "HTMLModel",
       "_view_count": null,
       "_view_module": "@jupyter-widgets/controls",
       "_view_module_version": "1.5.0",
       "_view_name": "HTMLView",
       "description": "",
       "description_tooltip": null,
       "layout": "IPY_MODEL_32a67f71721c48cdb2fa5541694baae0",
       "placeholder": "​",
       "style": "IPY_MODEL_a4665ccb3ebe48a8b1a5bfcbb2759be7",
       "value": " 4800/4800 [1:04:38&lt;00:00,  2.03it/s]"
      }
     },
     "ab3343e574cc4dae8cc8a704d272b95c": {
      "model_module": "@jupyter-widgets/base",
      "model_module_version": "1.2.0",
      "model_name": "LayoutModel",
      "state": {
       "_model_module": "@jupyter-widgets/base",
       "_model_module_version": "1.2.0",
       "_model_name": "LayoutModel",
       "_view_count": null,
       "_view_module": "@jupyter-widgets/base",
       "_view_module_version": "1.2.0",
       "_view_name": "LayoutView",
       "align_content": null,
       "align_items": null,
       "align_self": null,
       "border": null,
       "bottom": null,
       "display": null,
       "flex": null,
       "flex_flow": null,
       "grid_area": null,
       "grid_auto_columns": null,
       "grid_auto_flow": null,
       "grid_auto_rows": null,
       "grid_column": null,
       "grid_gap": null,
       "grid_row": null,
       "grid_template_areas": null,
       "grid_template_columns": null,
       "grid_template_rows": null,
       "height": null,
       "justify_content": null,
       "justify_items": null,
       "left": null,
       "margin": null,
       "max_height": null,
       "max_width": null,
       "min_height": null,
       "min_width": null,
       "object_fit": null,
       "object_position": null,
       "order": null,
       "overflow": null,
       "overflow_x": null,
       "overflow_y": null,
       "padding": null,
       "right": null,
       "top": null,
       "visibility": null,
       "width": null
      }
     },
     "b61bfeab601d41ecafc0fcc32c91e84d": {
      "model_module": "@jupyter-widgets/base",
      "model_module_version": "1.2.0",
      "model_name": "LayoutModel",
      "state": {
       "_model_module": "@jupyter-widgets/base",
       "_model_module_version": "1.2.0",
       "_model_name": "LayoutModel",
       "_view_count": null,
       "_view_module": "@jupyter-widgets/base",
       "_view_module_version": "1.2.0",
       "_view_name": "LayoutView",
       "align_content": null,
       "align_items": null,
       "align_self": null,
       "border": null,
       "bottom": null,
       "display": null,
       "flex": null,
       "flex_flow": null,
       "grid_area": null,
       "grid_auto_columns": null,
       "grid_auto_flow": null,
       "grid_auto_rows": null,
       "grid_column": null,
       "grid_gap": null,
       "grid_row": null,
       "grid_template_areas": null,
       "grid_template_columns": null,
       "grid_template_rows": null,
       "height": null,
       "justify_content": null,
       "justify_items": null,
       "left": null,
       "margin": null,
       "max_height": null,
       "max_width": null,
       "min_height": null,
       "min_width": null,
       "object_fit": null,
       "object_position": null,
       "order": null,
       "overflow": null,
       "overflow_x": null,
       "overflow_y": null,
       "padding": null,
       "right": null,
       "top": null,
       "visibility": null,
       "width": null
      }
     },
     "c062767aa0984b6897cef3306aabbf44": {
      "model_module": "@jupyter-widgets/base",
      "model_module_version": "1.2.0",
      "model_name": "LayoutModel",
      "state": {
       "_model_module": "@jupyter-widgets/base",
       "_model_module_version": "1.2.0",
       "_model_name": "LayoutModel",
       "_view_count": null,
       "_view_module": "@jupyter-widgets/base",
       "_view_module_version": "1.2.0",
       "_view_name": "LayoutView",
       "align_content": null,
       "align_items": null,
       "align_self": null,
       "border": null,
       "bottom": null,
       "display": null,
       "flex": null,
       "flex_flow": null,
       "grid_area": null,
       "grid_auto_columns": null,
       "grid_auto_flow": null,
       "grid_auto_rows": null,
       "grid_column": null,
       "grid_gap": null,
       "grid_row": null,
       "grid_template_areas": null,
       "grid_template_columns": null,
       "grid_template_rows": null,
       "height": null,
       "justify_content": null,
       "justify_items": null,
       "left": null,
       "margin": null,
       "max_height": null,
       "max_width": null,
       "min_height": null,
       "min_width": null,
       "object_fit": null,
       "object_position": null,
       "order": null,
       "overflow": null,
       "overflow_x": null,
       "overflow_y": null,
       "padding": null,
       "right": null,
       "top": null,
       "visibility": null,
       "width": null
      }
     },
     "d79f270e448d4253b362e7e9b4a07aab": {
      "model_module": "@jupyter-widgets/controls",
      "model_module_version": "1.5.0",
      "model_name": "FloatProgressModel",
      "state": {
       "_dom_classes": [],
       "_model_module": "@jupyter-widgets/controls",
       "_model_module_version": "1.5.0",
       "_model_name": "FloatProgressModel",
       "_view_count": null,
       "_view_module": "@jupyter-widgets/controls",
       "_view_module_version": "1.5.0",
       "_view_name": "ProgressView",
       "bar_style": "success",
       "description": "",
       "description_tooltip": null,
       "layout": "IPY_MODEL_b61bfeab601d41ecafc0fcc32c91e84d",
       "max": 1200.0,
       "min": 0.0,
       "orientation": "horizontal",
       "style": "IPY_MODEL_7a46f2830d3c4c42adef9090f86ae77d",
       "value": 1200.0
      }
     },
     "db8c280b8b334b5c9d4c7f7c60ee7db7": {
      "model_module": "@jupyter-widgets/base",
      "model_module_version": "1.2.0",
      "model_name": "LayoutModel",
      "state": {
       "_model_module": "@jupyter-widgets/base",
       "_model_module_version": "1.2.0",
       "_model_name": "LayoutModel",
       "_view_count": null,
       "_view_module": "@jupyter-widgets/base",
       "_view_module_version": "1.2.0",
       "_view_name": "LayoutView",
       "align_content": null,
       "align_items": null,
       "align_self": null,
       "border": null,
       "bottom": null,
       "display": null,
       "flex": null,
       "flex_flow": null,
       "grid_area": null,
       "grid_auto_columns": null,
       "grid_auto_flow": null,
       "grid_auto_rows": null,
       "grid_column": null,
       "grid_gap": null,
       "grid_row": null,
       "grid_template_areas": null,
       "grid_template_columns": null,
       "grid_template_rows": null,
       "height": null,
       "justify_content": null,
       "justify_items": null,
       "left": null,
       "margin": null,
       "max_height": null,
       "max_width": null,
       "min_height": null,
       "min_width": null,
       "object_fit": null,
       "object_position": null,
       "order": null,
       "overflow": null,
       "overflow_x": null,
       "overflow_y": null,
       "padding": null,
       "right": null,
       "top": null,
       "visibility": null,
       "width": null
      }
     },
     "deef55813d054500b014094778772891": {
      "model_module": "@jupyter-widgets/controls",
      "model_module_version": "1.5.0",
      "model_name": "ProgressStyleModel",
      "state": {
       "_model_module": "@jupyter-widgets/controls",
       "_model_module_version": "1.5.0",
       "_model_name": "ProgressStyleModel",
       "_view_count": null,
       "_view_module": "@jupyter-widgets/base",
       "_view_module_version": "1.2.0",
       "_view_name": "StyleView",
       "bar_color": null,
       "description_width": ""
      }
     },
     "e0a677e790da4b379589cf7a2c9038dc": {
      "model_module": "@jupyter-widgets/base",
      "model_module_version": "1.2.0",
      "model_name": "LayoutModel",
      "state": {
       "_model_module": "@jupyter-widgets/base",
       "_model_module_version": "1.2.0",
       "_model_name": "LayoutModel",
       "_view_count": null,
       "_view_module": "@jupyter-widgets/base",
       "_view_module_version": "1.2.0",
       "_view_name": "LayoutView",
       "align_content": null,
       "align_items": null,
       "align_self": null,
       "border": null,
       "bottom": null,
       "display": null,
       "flex": null,
       "flex_flow": null,
       "grid_area": null,
       "grid_auto_columns": null,
       "grid_auto_flow": null,
       "grid_auto_rows": null,
       "grid_column": null,
       "grid_gap": null,
       "grid_row": null,
       "grid_template_areas": null,
       "grid_template_columns": null,
       "grid_template_rows": null,
       "height": null,
       "justify_content": null,
       "justify_items": null,
       "left": null,
       "margin": null,
       "max_height": null,
       "max_width": null,
       "min_height": null,
       "min_width": null,
       "object_fit": null,
       "object_position": null,
       "order": null,
       "overflow": null,
       "overflow_x": null,
       "overflow_y": null,
       "padding": null,
       "right": null,
       "top": null,
       "visibility": null,
       "width": null
      }
     },
     "e1b9261722e64914b127d45675f04439": {
      "model_module": "@jupyter-widgets/controls",
      "model_module_version": "1.5.0",
      "model_name": "FloatProgressModel",
      "state": {
       "_dom_classes": [],
       "_model_module": "@jupyter-widgets/controls",
       "_model_module_version": "1.5.0",
       "_model_name": "FloatProgressModel",
       "_view_count": null,
       "_view_module": "@jupyter-widgets/controls",
       "_view_module_version": "1.5.0",
       "_view_name": "ProgressView",
       "bar_style": "success",
       "description": "",
       "description_tooltip": null,
       "layout": "IPY_MODEL_49b16edae6d749f79a0431d877226af7",
       "max": 4800.0,
       "min": 0.0,
       "orientation": "horizontal",
       "style": "IPY_MODEL_27504f3b2fa84943b33343425c456279",
       "value": 4800.0
      }
     },
     "edd32c57433148fda10dcd86e53b66c8": {
      "model_module": "@jupyter-widgets/controls",
      "model_module_version": "1.5.0",
      "model_name": "DescriptionStyleModel",
      "state": {
       "_model_module": "@jupyter-widgets/controls",
       "_model_module_version": "1.5.0",
       "_model_name": "DescriptionStyleModel",
       "_view_count": null,
       "_view_module": "@jupyter-widgets/base",
       "_view_module_version": "1.2.0",
       "_view_name": "StyleView",
       "description_width": ""
      }
     },
     "efeb4a98edc047d78ca4f5d6b5f48a45": {
      "model_module": "@jupyter-widgets/base",
      "model_module_version": "1.2.0",
      "model_name": "LayoutModel",
      "state": {
       "_model_module": "@jupyter-widgets/base",
       "_model_module_version": "1.2.0",
       "_model_name": "LayoutModel",
       "_view_count": null,
       "_view_module": "@jupyter-widgets/base",
       "_view_module_version": "1.2.0",
       "_view_name": "LayoutView",
       "align_content": null,
       "align_items": null,
       "align_self": null,
       "border": null,
       "bottom": null,
       "display": null,
       "flex": null,
       "flex_flow": null,
       "grid_area": null,
       "grid_auto_columns": null,
       "grid_auto_flow": null,
       "grid_auto_rows": null,
       "grid_column": null,
       "grid_gap": null,
       "grid_row": null,
       "grid_template_areas": null,
       "grid_template_columns": null,
       "grid_template_rows": null,
       "height": null,
       "justify_content": null,
       "justify_items": null,
       "left": null,
       "margin": null,
       "max_height": null,
       "max_width": null,
       "min_height": null,
       "min_width": null,
       "object_fit": null,
       "object_position": null,
       "order": null,
       "overflow": null,
       "overflow_x": null,
       "overflow_y": null,
       "padding": null,
       "right": null,
       "top": null,
       "visibility": null,
       "width": null
      }
     },
     "f0172b1eb9394eca8f3d515178e44f82": {
      "model_module": "@jupyter-widgets/base",
      "model_module_version": "1.2.0",
      "model_name": "LayoutModel",
      "state": {
       "_model_module": "@jupyter-widgets/base",
       "_model_module_version": "1.2.0",
       "_model_name": "LayoutModel",
       "_view_count": null,
       "_view_module": "@jupyter-widgets/base",
       "_view_module_version": "1.2.0",
       "_view_name": "LayoutView",
       "align_content": null,
       "align_items": null,
       "align_self": null,
       "border": null,
       "bottom": null,
       "display": null,
       "flex": null,
       "flex_flow": null,
       "grid_area": null,
       "grid_auto_columns": null,
       "grid_auto_flow": null,
       "grid_auto_rows": null,
       "grid_column": null,
       "grid_gap": null,
       "grid_row": null,
       "grid_template_areas": null,
       "grid_template_columns": null,
       "grid_template_rows": null,
       "height": null,
       "justify_content": null,
       "justify_items": null,
       "left": null,
       "margin": null,
       "max_height": null,
       "max_width": null,
       "min_height": null,
       "min_width": null,
       "object_fit": null,
       "object_position": null,
       "order": null,
       "overflow": null,
       "overflow_x": null,
       "overflow_y": null,
       "padding": null,
       "right": null,
       "top": null,
       "visibility": null,
       "width": null
      }
     },
     "f6b8b9c7e7bf4157b22e92a26a114712": {
      "model_module": "@jupyter-widgets/controls",
      "model_module_version": "1.5.0",
      "model_name": "HTMLModel",
      "state": {
       "_dom_classes": [],
       "_model_module": "@jupyter-widgets/controls",
       "_model_module_version": "1.5.0",
       "_model_name": "HTMLModel",
       "_view_count": null,
       "_view_module": "@jupyter-widgets/controls",
       "_view_module_version": "1.5.0",
       "_view_name": "HTMLView",
       "description": "",
       "description_tooltip": null,
       "layout": "IPY_MODEL_864ec393610546afb2b0f316b825394e",
       "placeholder": "​",
       "style": "IPY_MODEL_263cc4b8b7604e53ab05c99b564f4a34",
       "value": " 4800/4800 [52:45&lt;00:00,  2.46it/s]"
      }
     }
    },
    "version_major": 2,
    "version_minor": 0
   }
  }
 },
 "nbformat": 4,
 "nbformat_minor": 5
}
