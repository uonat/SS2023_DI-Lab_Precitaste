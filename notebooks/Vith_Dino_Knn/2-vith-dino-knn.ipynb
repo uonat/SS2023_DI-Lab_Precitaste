{
 "cells": [
  {
   "cell_type": "code",
   "execution_count": 1,
   "id": "377868a5",
   "metadata": {
    "_cell_guid": "b1076dfc-b9ad-4769-8c92-a6c4dae69d19",
    "_uuid": "8f2839f25d086af736a60e9eeb907d3b93b6e0e5",
    "execution": {
     "iopub.execute_input": "2023-06-15T13:57:12.527106Z",
     "iopub.status.busy": "2023-06-15T13:57:12.526770Z",
     "iopub.status.idle": "2023-06-15T13:57:16.614785Z",
     "shell.execute_reply": "2023-06-15T13:57:16.613638Z"
    },
    "papermill": {
     "duration": 4.097711,
     "end_time": "2023-06-15T13:57:16.617376",
     "exception": false,
     "start_time": "2023-06-15T13:57:12.519665",
     "status": "completed"
    },
    "tags": []
   },
   "outputs": [
    {
     "name": "stdout",
     "output_type": "stream",
     "text": [
      "Cloning into 'SS2023_DI-Lab_Precitaste'...\r\n",
      "remote: Enumerating objects: 287, done.\u001b[K\r\n",
      "remote: Counting objects: 100% (287/287), done.\u001b[K\r\n",
      "remote: Compressing objects: 100% (212/212), done.\u001b[K\r\n",
      "remote: Total 287 (delta 105), reused 225 (delta 62), pack-reused 0\u001b[K\r\n",
      "Receiving objects: 100% (287/287), 26.55 MiB | 20.66 MiB/s, done.\r\n",
      "Resolving deltas: 100% (105/105), done.\r\n"
     ]
    }
   ],
   "source": [
    "!git clone https://github.com/uonat/SS2023_DI-Lab_Precitaste.git"
   ]
  },
  {
   "cell_type": "code",
   "execution_count": 2,
   "id": "224cdc28",
   "metadata": {
    "execution": {
     "iopub.execute_input": "2023-06-15T13:57:16.634733Z",
     "iopub.status.busy": "2023-06-15T13:57:16.633813Z",
     "iopub.status.idle": "2023-06-15T13:57:16.640978Z",
     "shell.execute_reply": "2023-06-15T13:57:16.639803Z"
    },
    "papermill": {
     "duration": 0.017857,
     "end_time": "2023-06-15T13:57:16.642940",
     "exception": false,
     "start_time": "2023-06-15T13:57:16.625083",
     "status": "completed"
    },
    "tags": []
   },
   "outputs": [
    {
     "name": "stdout",
     "output_type": "stream",
     "text": [
      "/kaggle/working/SS2023_DI-Lab_Precitaste\n"
     ]
    }
   ],
   "source": [
    "%cd '/kaggle/working/SS2023_DI-Lab_Precitaste'"
   ]
  },
  {
   "cell_type": "code",
   "execution_count": 3,
   "id": "e07cd7b7",
   "metadata": {
    "execution": {
     "iopub.execute_input": "2023-06-15T13:57:16.659903Z",
     "iopub.status.busy": "2023-06-15T13:57:16.659094Z",
     "iopub.status.idle": "2023-06-15T13:57:19.199050Z",
     "shell.execute_reply": "2023-06-15T13:57:19.197854Z"
    },
    "papermill": {
     "duration": 2.551076,
     "end_time": "2023-06-15T13:57:19.201325",
     "exception": false,
     "start_time": "2023-06-15T13:57:16.650249",
     "status": "completed"
    },
    "tags": []
   },
   "outputs": [
    {
     "name": "stdout",
     "output_type": "stream",
     "text": [
      "* \u001b[32mmain                              \u001b[m d5abd92 Merge pull request #12 from uonat/dinov2\r\n",
      "  \u001b[31mremotes/origin/CLIP-implementation\u001b[m 134fe54 Updated CLIP Notebook\r\n",
      "  \u001b[31mremotes/origin/HEAD               \u001b[m -> origin/main\r\n",
      "  \u001b[31mremotes/origin/dinov2             \u001b[m 70736a0 Added final step 3 notebook\r\n",
      "  \u001b[31mremotes/origin/main               \u001b[m d5abd92 Merge pull request #12 from uonat/dinov2\r\n",
      "  \u001b[31mremotes/origin/yushan             \u001b[m 94fc5af Update: different TEXT_PROMPT for RPC datasets\r\n"
     ]
    }
   ],
   "source": [
    "!git fetch\n",
    "!git branch -v -a"
   ]
  },
  {
   "cell_type": "code",
   "execution_count": 4,
   "id": "75f0273d",
   "metadata": {
    "execution": {
     "iopub.execute_input": "2023-06-15T13:57:19.219014Z",
     "iopub.status.busy": "2023-06-15T13:57:19.218159Z",
     "iopub.status.idle": "2023-06-15T13:57:20.301545Z",
     "shell.execute_reply": "2023-06-15T13:57:20.300445Z"
    },
    "papermill": {
     "duration": 1.094497,
     "end_time": "2023-06-15T13:57:20.303787",
     "exception": false,
     "start_time": "2023-06-15T13:57:19.209290",
     "status": "completed"
    },
    "tags": []
   },
   "outputs": [
    {
     "name": "stdout",
     "output_type": "stream",
     "text": [
      "Branch 'dinov2' set up to track remote branch 'dinov2' from 'origin'.\r\n",
      "Switched to a new branch 'dinov2'\r\n"
     ]
    }
   ],
   "source": [
    "!git switch dinov2"
   ]
  },
  {
   "cell_type": "code",
   "execution_count": 5,
   "id": "da22aa00",
   "metadata": {
    "execution": {
     "iopub.execute_input": "2023-06-15T13:57:20.321536Z",
     "iopub.status.busy": "2023-06-15T13:57:20.320574Z",
     "iopub.status.idle": "2023-06-15T13:57:38.061155Z",
     "shell.execute_reply": "2023-06-15T13:57:38.059971Z"
    },
    "papermill": {
     "duration": 17.752721,
     "end_time": "2023-06-15T13:57:38.064185",
     "exception": false,
     "start_time": "2023-06-15T13:57:20.311464",
     "status": "completed"
    },
    "tags": []
   },
   "outputs": [],
   "source": [
    "!pip install . &> /dev/null"
   ]
  },
  {
   "cell_type": "code",
   "execution_count": 6,
   "id": "5bfd30a3",
   "metadata": {
    "execution": {
     "iopub.execute_input": "2023-06-15T13:57:38.081817Z",
     "iopub.status.busy": "2023-06-15T13:57:38.080861Z",
     "iopub.status.idle": "2023-06-15T13:57:41.781479Z",
     "shell.execute_reply": "2023-06-15T13:57:41.780595Z"
    },
    "papermill": {
     "duration": 3.712206,
     "end_time": "2023-06-15T13:57:41.784125",
     "exception": false,
     "start_time": "2023-06-15T13:57:38.071919",
     "status": "completed"
    },
    "tags": []
   },
   "outputs": [],
   "source": [
    "import numpy as np\n",
    "import cv2\n",
    "import torch\n",
    "import json\n",
    "import pandas as pd\n",
    "from tqdm.notebook import tqdm\n",
    "import matplotlib.pyplot as plt\n",
    "import math\n",
    "import torchvision.transforms as T\n",
    "from PIL import Image"
   ]
  },
  {
   "cell_type": "code",
   "execution_count": 7,
   "id": "11665a6e",
   "metadata": {
    "execution": {
     "iopub.execute_input": "2023-06-15T13:57:41.802516Z",
     "iopub.status.busy": "2023-06-15T13:57:41.800727Z",
     "iopub.status.idle": "2023-06-15T13:57:41.806674Z",
     "shell.execute_reply": "2023-06-15T13:57:41.805750Z"
    },
    "papermill": {
     "duration": 0.016932,
     "end_time": "2023-06-15T13:57:41.808815",
     "exception": false,
     "start_time": "2023-06-15T13:57:41.791883",
     "status": "completed"
    },
    "tags": []
   },
   "outputs": [],
   "source": [
    "def crop_object_with_bbox(np_img, bbox):\n",
    "    x, y, x2, y2 = [int(i) for i in bbox]\n",
    "    return np_img[y:y2, x:x2].astype('float32')"
   ]
  },
  {
   "cell_type": "code",
   "execution_count": 8,
   "id": "216aab58",
   "metadata": {
    "execution": {
     "iopub.execute_input": "2023-06-15T13:57:41.824926Z",
     "iopub.status.busy": "2023-06-15T13:57:41.824663Z",
     "iopub.status.idle": "2023-06-15T13:57:41.828542Z",
     "shell.execute_reply": "2023-06-15T13:57:41.827663Z"
    },
    "papermill": {
     "duration": 0.014162,
     "end_time": "2023-06-15T13:57:41.830548",
     "exception": false,
     "start_time": "2023-06-15T13:57:41.816386",
     "status": "completed"
    },
    "tags": []
   },
   "outputs": [],
   "source": [
    "# Dataset paths\n",
    "rpc_main_path = '/kaggle/input/retail-product-checkout-dataset'\n",
    "# Dimension of the feature vector obtained from DINO\n",
    "FEATURE_DIM = 384"
   ]
  },
  {
   "cell_type": "code",
   "execution_count": 9,
   "id": "b468b40d",
   "metadata": {
    "execution": {
     "iopub.execute_input": "2023-06-15T13:57:41.847508Z",
     "iopub.status.busy": "2023-06-15T13:57:41.847246Z",
     "iopub.status.idle": "2023-06-15T13:57:42.983243Z",
     "shell.execute_reply": "2023-06-15T13:57:42.982275Z"
    },
    "papermill": {
     "duration": 1.147091,
     "end_time": "2023-06-15T13:57:42.985652",
     "exception": false,
     "start_time": "2023-06-15T13:57:41.838561",
     "status": "completed"
    },
    "tags": []
   },
   "outputs": [],
   "source": [
    "from dataset.RPCDataset import RPCDataset\n",
    "val_dataset = RPCDataset(rpc_main_path, 'val')\n",
    "sub_classes = val_dataset.get_class_names()\n",
    "device = \"cuda\" if torch.cuda.is_available() else \"cpu\""
   ]
  },
  {
   "cell_type": "code",
   "execution_count": 10,
   "id": "bed4ef34",
   "metadata": {
    "execution": {
     "iopub.execute_input": "2023-06-15T13:57:43.004012Z",
     "iopub.status.busy": "2023-06-15T13:57:43.003717Z",
     "iopub.status.idle": "2023-06-15T13:57:43.014917Z",
     "shell.execute_reply": "2023-06-15T13:57:43.013942Z"
    },
    "papermill": {
     "duration": 0.02214,
     "end_time": "2023-06-15T13:57:43.016977",
     "exception": false,
     "start_time": "2023-06-15T13:57:42.994837",
     "status": "completed"
    },
    "tags": []
   },
   "outputs": [],
   "source": [
    "with open('/kaggle/input/di-lab-idea2-artifacts/Idea2-Files/VitH/train_config.json', 'r') as jfile:\n",
    "    train_config = json.load(jfile)"
   ]
  },
  {
   "cell_type": "code",
   "execution_count": 11,
   "id": "b42a0479",
   "metadata": {
    "execution": {
     "iopub.execute_input": "2023-06-15T13:57:43.033413Z",
     "iopub.status.busy": "2023-06-15T13:57:43.032753Z",
     "iopub.status.idle": "2023-06-15T13:57:43.044411Z",
     "shell.execute_reply": "2023-06-15T13:57:43.043639Z"
    },
    "papermill": {
     "duration": 0.022117,
     "end_time": "2023-06-15T13:57:43.046437",
     "exception": false,
     "start_time": "2023-06-15T13:57:43.024320",
     "status": "completed"
    },
    "tags": []
   },
   "outputs": [],
   "source": [
    "class Prediction:\n",
    "    def __init__(self, img_name, img_path, pred_bbox, pred_score_bbox):\n",
    "        self.img_name = img_name\n",
    "        self.img_path = img_path\n",
    "        \n",
    "        if pred_bbox is not None:\n",
    "            self.pred_bbox = pred_bbox.tolist()\n",
    "        else:\n",
    "            self.pred_bbox = None\n",
    "            \n",
    "        self.pred_score_bbox = pred_score_bbox\n",
    "\n",
    "        # Obtained when prediction matches with a gt bounding box\n",
    "        self.gt_bbox = None\n",
    "        self.gt_label = None\n",
    "\n",
    "        # Obtained from knn\n",
    "        self.pred_label = None\n",
    "        # Obtained from knn by measuring mean distance to its predicted label\n",
    "        self.class_score = None\n",
    "        self.pred_features = None\n",
    "        self.is_train = None\n",
    "        \n",
    "    def add_gt_bbox(self, gt_bbox, gt_label, train_class_flag):\n",
    "        self.gt_bbox = gt_bbox\n",
    "        self.gt_label = gt_label\n",
    "        self.is_train = train_class_flag\n",
    "    \n",
    "    def add_feature_vector(self, feature_vector):\n",
    "        self.pred_features = feature_vector.tolist()\n",
    "    \n",
    "    def add_classification_res(self, pred_label, mean_dist):\n",
    "        self.pred_label = pred_label\n",
    "        self.class_score = mean_dist\n",
    "        \n",
    "    def to_dict(self):\n",
    "        return {\n",
    "            'img_name': self.img_name,\n",
    "            'img_path': self.img_path,\n",
    "            'pred_bbox': self.pred_bbox,\n",
    "            'pred_score_bbox': self.pred_score_bbox,\n",
    "            'gt_bbox': self.gt_bbox,\n",
    "            'gt_label': self.gt_label,\n",
    "            'pred_label': self.pred_label,\n",
    "            'class_score': self.class_score,\n",
    "            'pred_features': self.pred_features,\n",
    "            'is_train': self.is_train\n",
    "        }\n",
    "    \n",
    "    def read_dict(self, content):\n",
    "        self.img_name = content['img_name']\n",
    "        self.img_path = content['img_path']\n",
    "        self.pred_bbox = content['pred_bbox']\n",
    "        \n",
    "        self.pred_score_bbox = content['pred_score_bbox']\n",
    "        self.gt_bbox = content['gt_bbox']\n",
    "        self.gt_label = content['gt_label']\n",
    "        self.pred_label = content['pred_label']\n",
    "        self.class_score = content['class_score']\n",
    "        self.pred_features = content['pred_features']\n",
    "        self.is_train = content['is_train']"
   ]
  },
  {
   "cell_type": "code",
   "execution_count": 12,
   "id": "cd23c67e",
   "metadata": {
    "execution": {
     "iopub.execute_input": "2023-06-15T13:57:43.062422Z",
     "iopub.status.busy": "2023-06-15T13:57:43.062170Z",
     "iopub.status.idle": "2023-06-15T13:57:48.350127Z",
     "shell.execute_reply": "2023-06-15T13:57:48.349122Z"
    },
    "papermill": {
     "duration": 5.298669,
     "end_time": "2023-06-15T13:57:48.352508",
     "exception": false,
     "start_time": "2023-06-15T13:57:43.053839",
     "status": "completed"
    },
    "tags": []
   },
   "outputs": [
    {
     "name": "stderr",
     "output_type": "stream",
     "text": [
      "Downloading: \"https://github.com/facebookresearch/dinov2/zipball/main\" to /root/.cache/torch/hub/main.zip\n",
      "Downloading: \"https://dl.fbaipublicfiles.com/dinov2/dinov2_vits14/dinov2_vits14_pretrain.pth\" to /root/.cache/torch/hub/checkpoints/dinov2_vits14_pretrain.pth\n",
      "100%|██████████| 84.2M/84.2M [00:00<00:00, 181MB/s]\n"
     ]
    }
   ],
   "source": [
    "from models.DINO import DINOFeatureExtractor\n",
    "feat_extractor = DINOFeatureExtractor()"
   ]
  },
  {
   "cell_type": "code",
   "execution_count": 13,
   "id": "33f32215",
   "metadata": {
    "execution": {
     "iopub.execute_input": "2023-06-15T13:57:48.373531Z",
     "iopub.status.busy": "2023-06-15T13:57:48.373222Z",
     "iopub.status.idle": "2023-06-15T13:57:48.381648Z",
     "shell.execute_reply": "2023-06-15T13:57:48.380772Z"
    },
    "papermill": {
     "duration": 0.020449,
     "end_time": "2023-06-15T13:57:48.383698",
     "exception": false,
     "start_time": "2023-06-15T13:57:48.363249",
     "status": "completed"
    },
    "tags": []
   },
   "outputs": [],
   "source": [
    "def read_pred_objects_json(json_path):\n",
    "    pred_objects = []\n",
    "    with open(json_path, \"r\") as jfile:\n",
    "        json_objects = json.load(jfile)    \n",
    "    \n",
    "    for json_object in json_objects:\n",
    "        cur_object = Prediction(\"\", \"\", np.array([]), 0.0)\n",
    "        cur_object.read_dict(json_object)\n",
    "        pred_objects.append(cur_object)\n",
    "    return pred_objects\n",
    "\n",
    "def get_pred_objects_per_image(pred_objects):\n",
    "    img_names = list(set([pobject.img_name for pobject in pred_objects]))\n",
    "    objects_per_img = {}\n",
    "    for img_name in img_names:\n",
    "        img_objects = [pobject for pobject in pred_objects if pobject.img_name == img_name]\n",
    "        objects_per_img[img_name] = img_objects\n",
    "    return objects_per_img"
   ]
  },
  {
   "cell_type": "code",
   "execution_count": 14,
   "id": "e663945c",
   "metadata": {
    "execution": {
     "iopub.execute_input": "2023-06-15T13:57:48.401308Z",
     "iopub.status.busy": "2023-06-15T13:57:48.401037Z",
     "iopub.status.idle": "2023-06-15T13:57:48.409065Z",
     "shell.execute_reply": "2023-06-15T13:57:48.408075Z"
    },
    "papermill": {
     "duration": 0.019282,
     "end_time": "2023-06-15T13:57:48.411149",
     "exception": false,
     "start_time": "2023-06-15T13:57:48.391867",
     "status": "completed"
    },
    "tags": []
   },
   "outputs": [],
   "source": [
    "def find_feature_vector_for_bbox(pred_objects):\n",
    "    pred_objects_per_image = get_pred_objects_per_image(pred_objects)\n",
    "    processed_pred_objects = []\n",
    "    with torch.no_grad():\n",
    "        for img_name in tqdm(pred_objects_per_image):\n",
    "\n",
    "            img_pred_objects = pred_objects_per_image[img_name]\n",
    "            img_path = img_pred_objects[0].img_path\n",
    "\n",
    "            pil_img = Image.open(img_path)\n",
    "            np_img = np.asarray(pil_img)\n",
    "\n",
    "            for pred_object in img_pred_objects:\n",
    "                # Even there is no prediction for that still add the object\n",
    "                if pred_object.pred_bbox is None:\n",
    "                    processed_pred_objects.append(pred_object)\n",
    "                    continue\n",
    "                \n",
    "                # The smallest gt object has a dimension of 50\n",
    "                if (pred_object.pred_bbox[2] - pred_object.pred_bbox[0]) < 50 or (pred_object.pred_bbox[3] - pred_object.pred_bbox[1]) < 50:\n",
    "                    continue\n",
    "\n",
    "                cropped_object_np_img = crop_object_with_bbox(np_img, pred_object.pred_bbox)\n",
    "                h,w,_ = cropped_object_np_img.shape\n",
    "\n",
    "                sample_feature = feat_extractor.predict(cropped_object_np_img)\n",
    "                sample_feature = sample_feature.cpu().numpy()\n",
    "                \n",
    "                pred_object.add_feature_vector(sample_feature)\n",
    "                processed_pred_objects.append(pred_object)\n",
    "    return processed_pred_objects"
   ]
  },
  {
   "cell_type": "code",
   "execution_count": 15,
   "id": "930ac502",
   "metadata": {
    "execution": {
     "iopub.execute_input": "2023-06-15T13:57:48.428640Z",
     "iopub.status.busy": "2023-06-15T13:57:48.428325Z",
     "iopub.status.idle": "2023-06-15T13:57:48.433861Z",
     "shell.execute_reply": "2023-06-15T13:57:48.432908Z"
    },
    "papermill": {
     "duration": 0.016536,
     "end_time": "2023-06-15T13:57:48.435825",
     "exception": false,
     "start_time": "2023-06-15T13:57:48.419289",
     "status": "completed"
    },
    "tags": []
   },
   "outputs": [],
   "source": [
    "def dump_pred_objects(prediction_objects, jpath):\n",
    "    json_content = [pred_object.to_dict() for pred_object in prediction_objects]\n",
    "    with open(jpath, \"w\") as jfile:\n",
    "        json.dump(json_content, jfile)"
   ]
  },
  {
   "cell_type": "code",
   "execution_count": 16,
   "id": "55c95bd2",
   "metadata": {
    "execution": {
     "iopub.execute_input": "2023-06-15T13:57:48.453832Z",
     "iopub.status.busy": "2023-06-15T13:57:48.453093Z",
     "iopub.status.idle": "2023-06-15T16:25:35.501857Z",
     "shell.execute_reply": "2023-06-15T16:25:35.500788Z"
    },
    "papermill": {
     "duration": 8867.060309,
     "end_time": "2023-06-15T16:25:35.504418",
     "exception": false,
     "start_time": "2023-06-15T13:57:48.444109",
     "status": "completed"
    },
    "tags": []
   },
   "outputs": [
    {
     "data": {
      "application/vnd.jupyter.widget-view+json": {
       "model_id": "c8fd2ee226474e21b92596ed60c5ed76",
       "version_major": 2,
       "version_minor": 0
      },
      "text/plain": [
       "  0%|          | 0/4800 [00:00<?, ?it/s]"
      ]
     },
     "metadata": {},
     "output_type": "display_data"
    },
    {
     "data": {
      "application/vnd.jupyter.widget-view+json": {
       "model_id": "a142bff84e034a639c39d9796656b013",
       "version_major": 2,
       "version_minor": 0
      },
      "text/plain": [
       "  0%|          | 0/4800 [00:00<?, ?it/s]"
      ]
     },
     "metadata": {},
     "output_type": "display_data"
    },
    {
     "data": {
      "application/vnd.jupyter.widget-view+json": {
       "model_id": "ccc3bd66ced3412da0cd804829b219de",
       "version_major": 2,
       "version_minor": 0
      },
      "text/plain": [
       "  0%|          | 0/1200 [00:00<?, ?it/s]"
      ]
     },
     "metadata": {},
     "output_type": "display_data"
    },
    {
     "data": {
      "application/vnd.jupyter.widget-view+json": {
       "model_id": "bf0b6a01570649a7b70aaaf36b2fd9d6",
       "version_major": 2,
       "version_minor": 0
      },
      "text/plain": [
       "  0%|          | 0/1200 [00:00<?, ?it/s]"
      ]
     },
     "metadata": {},
     "output_type": "display_data"
    }
   ],
   "source": [
    "pred_objects = read_pred_objects_json(\"/kaggle/input/di-lab-idea2-artifacts/Idea2-Files/VitH/vith_res_train_pred_objects.json\")\n",
    "feature_extracted_pred_objects = find_feature_vector_for_bbox(pred_objects)\n",
    "dump_pred_objects(feature_extracted_pred_objects, \"../vith_res_train_pred_objects_2.json\")\n",
    "\n",
    "pred_objects = read_pred_objects_json(\"/kaggle/input/di-lab-idea2-artifacts/Idea2-Files/VitH/vith_res_train_processed_pred_objects.json\")\n",
    "feature_extracted_pred_objects = find_feature_vector_for_bbox(pred_objects)\n",
    "dump_pred_objects(feature_extracted_pred_objects, \"../vith_res_train_processed_pred_objects_2.json\")\n",
    "\n",
    "pred_objects = read_pred_objects_json(\"/kaggle/input/di-lab-idea2-artifacts/Idea2-Files/VitH/vith_res_val_pred_objects.json\")\n",
    "feature_extracted_pred_objects = find_feature_vector_for_bbox(pred_objects)\n",
    "dump_pred_objects(feature_extracted_pred_objects, \"../vith_res_val_pred_objects_2.json\")\n",
    "\n",
    "pred_objects = read_pred_objects_json(\"/kaggle/input/di-lab-idea2-artifacts/Idea2-Files/VitH/vith_res_val_processed_pred_objects.json\")\n",
    "feature_extracted_pred_objects = find_feature_vector_for_bbox(pred_objects)\n",
    "dump_pred_objects(feature_extracted_pred_objects, \"../vith_res_val_processed_pred_objects_2.json\")\n"
   ]
  },
  {
   "cell_type": "code",
   "execution_count": null,
   "id": "75d3b3ad",
   "metadata": {
    "execution": {
     "iopub.execute_input": "2023-06-11T09:25:31.245679Z",
     "iopub.status.busy": "2023-06-11T09:25:31.245189Z",
     "iopub.status.idle": "2023-06-11T09:25:31.256489Z",
     "shell.execute_reply": "2023-06-11T09:25:31.255353Z",
     "shell.execute_reply.started": "2023-06-11T09:25:31.245645Z"
    },
    "papermill": {
     "duration": 0.008608,
     "end_time": "2023-06-15T16:25:35.522239",
     "exception": false,
     "start_time": "2023-06-15T16:25:35.513631",
     "status": "completed"
    },
    "tags": []
   },
   "outputs": [],
   "source": []
  },
  {
   "cell_type": "code",
   "execution_count": null,
   "id": "0672126a",
   "metadata": {
    "papermill": {
     "duration": 0.008885,
     "end_time": "2023-06-15T16:25:35.539759",
     "exception": false,
     "start_time": "2023-06-15T16:25:35.530874",
     "status": "completed"
    },
    "tags": []
   },
   "outputs": [],
   "source": []
  }
 ],
 "metadata": {
  "kernelspec": {
   "display_name": "Python 3",
   "language": "python",
   "name": "python3"
  },
  "language_info": {
   "codemirror_mode": {
    "name": "ipython",
    "version": 3
   },
   "file_extension": ".py",
   "mimetype": "text/x-python",
   "name": "python",
   "nbconvert_exporter": "python",
   "pygments_lexer": "ipython3",
   "version": "3.10.10"
  },
  "papermill": {
   "default_parameters": {},
   "duration": 8916.671755,
   "end_time": "2023-06-15T16:25:39.016972",
   "environment_variables": {},
   "exception": null,
   "input_path": "__notebook__.ipynb",
   "output_path": "__notebook__.ipynb",
   "parameters": {},
   "start_time": "2023-06-15T13:57:02.345217",
   "version": "2.4.0"
  },
  "widgets": {
   "application/vnd.jupyter.widget-state+json": {
    "state": {
     "023978130afe499097da5912b2a43395": {
      "model_module": "@jupyter-widgets/controls",
      "model_module_version": "1.5.0",
      "model_name": "DescriptionStyleModel",
      "state": {
       "_model_module": "@jupyter-widgets/controls",
       "_model_module_version": "1.5.0",
       "_model_name": "DescriptionStyleModel",
       "_view_count": null,
       "_view_module": "@jupyter-widgets/base",
       "_view_module_version": "1.2.0",
       "_view_name": "StyleView",
       "description_width": ""
      }
     },
     "03250943b406497fbc4131ccc2273c54": {
      "model_module": "@jupyter-widgets/controls",
      "model_module_version": "1.5.0",
      "model_name": "DescriptionStyleModel",
      "state": {
       "_model_module": "@jupyter-widgets/controls",
       "_model_module_version": "1.5.0",
       "_model_name": "DescriptionStyleModel",
       "_view_count": null,
       "_view_module": "@jupyter-widgets/base",
       "_view_module_version": "1.2.0",
       "_view_name": "StyleView",
       "description_width": ""
      }
     },
     "0e38a0a4ac7e4179b7efeb33d8f3fab4": {
      "model_module": "@jupyter-widgets/controls",
      "model_module_version": "1.5.0",
      "model_name": "ProgressStyleModel",
      "state": {
       "_model_module": "@jupyter-widgets/controls",
       "_model_module_version": "1.5.0",
       "_model_name": "ProgressStyleModel",
       "_view_count": null,
       "_view_module": "@jupyter-widgets/base",
       "_view_module_version": "1.2.0",
       "_view_name": "StyleView",
       "bar_color": null,
       "description_width": ""
      }
     },
     "114bad510a91463c916c85b7e8782fa1": {
      "model_module": "@jupyter-widgets/controls",
      "model_module_version": "1.5.0",
      "model_name": "FloatProgressModel",
      "state": {
       "_dom_classes": [],
       "_model_module": "@jupyter-widgets/controls",
       "_model_module_version": "1.5.0",
       "_model_name": "FloatProgressModel",
       "_view_count": null,
       "_view_module": "@jupyter-widgets/controls",
       "_view_module_version": "1.5.0",
       "_view_name": "ProgressView",
       "bar_style": "success",
       "description": "",
       "description_tooltip": null,
       "layout": "IPY_MODEL_73a4a9d40d7a4e69b90dce4c9dcb5fc2",
       "max": 1200.0,
       "min": 0.0,
       "orientation": "horizontal",
       "style": "IPY_MODEL_1b9b718d32ba4d7698844aacc7999123",
       "value": 1200.0
      }
     },
     "15bd1453130140c3a12574fa8cc20f87": {
      "model_module": "@jupyter-widgets/base",
      "model_module_version": "1.2.0",
      "model_name": "LayoutModel",
      "state": {
       "_model_module": "@jupyter-widgets/base",
       "_model_module_version": "1.2.0",
       "_model_name": "LayoutModel",
       "_view_count": null,
       "_view_module": "@jupyter-widgets/base",
       "_view_module_version": "1.2.0",
       "_view_name": "LayoutView",
       "align_content": null,
       "align_items": null,
       "align_self": null,
       "border": null,
       "bottom": null,
       "display": null,
       "flex": null,
       "flex_flow": null,
       "grid_area": null,
       "grid_auto_columns": null,
       "grid_auto_flow": null,
       "grid_auto_rows": null,
       "grid_column": null,
       "grid_gap": null,
       "grid_row": null,
       "grid_template_areas": null,
       "grid_template_columns": null,
       "grid_template_rows": null,
       "height": null,
       "justify_content": null,
       "justify_items": null,
       "left": null,
       "margin": null,
       "max_height": null,
       "max_width": null,
       "min_height": null,
       "min_width": null,
       "object_fit": null,
       "object_position": null,
       "order": null,
       "overflow": null,
       "overflow_x": null,
       "overflow_y": null,
       "padding": null,
       "right": null,
       "top": null,
       "visibility": null,
       "width": null
      }
     },
     "1b9b718d32ba4d7698844aacc7999123": {
      "model_module": "@jupyter-widgets/controls",
      "model_module_version": "1.5.0",
      "model_name": "ProgressStyleModel",
      "state": {
       "_model_module": "@jupyter-widgets/controls",
       "_model_module_version": "1.5.0",
       "_model_name": "ProgressStyleModel",
       "_view_count": null,
       "_view_module": "@jupyter-widgets/base",
       "_view_module_version": "1.2.0",
       "_view_name": "StyleView",
       "bar_color": null,
       "description_width": ""
      }
     },
     "2db899a7adcd4b1a94029f2626954fff": {
      "model_module": "@jupyter-widgets/controls",
      "model_module_version": "1.5.0",
      "model_name": "HTMLModel",
      "state": {
       "_dom_classes": [],
       "_model_module": "@jupyter-widgets/controls",
       "_model_module_version": "1.5.0",
       "_model_name": "HTMLModel",
       "_view_count": null,
       "_view_module": "@jupyter-widgets/controls",
       "_view_module_version": "1.5.0",
       "_view_name": "HTMLView",
       "description": "",
       "description_tooltip": null,
       "layout": "IPY_MODEL_ad366c7c84ce49529988ce1684642e45",
       "placeholder": "​",
       "style": "IPY_MODEL_6c7f46003c4c453f81c3e4333dd24885",
       "value": " 1200/1200 [20:05&lt;00:00,  1.26s/it]"
      }
     },
     "2fa3173701ba4590ba11aa154f474141": {
      "model_module": "@jupyter-widgets/base",
      "model_module_version": "1.2.0",
      "model_name": "LayoutModel",
      "state": {
       "_model_module": "@jupyter-widgets/base",
       "_model_module_version": "1.2.0",
       "_model_name": "LayoutModel",
       "_view_count": null,
       "_view_module": "@jupyter-widgets/base",
       "_view_module_version": "1.2.0",
       "_view_name": "LayoutView",
       "align_content": null,
       "align_items": null,
       "align_self": null,
       "border": null,
       "bottom": null,
       "display": null,
       "flex": null,
       "flex_flow": null,
       "grid_area": null,
       "grid_auto_columns": null,
       "grid_auto_flow": null,
       "grid_auto_rows": null,
       "grid_column": null,
       "grid_gap": null,
       "grid_row": null,
       "grid_template_areas": null,
       "grid_template_columns": null,
       "grid_template_rows": null,
       "height": null,
       "justify_content": null,
       "justify_items": null,
       "left": null,
       "margin": null,
       "max_height": null,
       "max_width": null,
       "min_height": null,
       "min_width": null,
       "object_fit": null,
       "object_position": null,
       "order": null,
       "overflow": null,
       "overflow_x": null,
       "overflow_y": null,
       "padding": null,
       "right": null,
       "top": null,
       "visibility": null,
       "width": null
      }
     },
     "2fd639af121c4e75a49ee84b4fcbf6a7": {
      "model_module": "@jupyter-widgets/base",
      "model_module_version": "1.2.0",
      "model_name": "LayoutModel",
      "state": {
       "_model_module": "@jupyter-widgets/base",
       "_model_module_version": "1.2.0",
       "_model_name": "LayoutModel",
       "_view_count": null,
       "_view_module": "@jupyter-widgets/base",
       "_view_module_version": "1.2.0",
       "_view_name": "LayoutView",
       "align_content": null,
       "align_items": null,
       "align_self": null,
       "border": null,
       "bottom": null,
       "display": null,
       "flex": null,
       "flex_flow": null,
       "grid_area": null,
       "grid_auto_columns": null,
       "grid_auto_flow": null,
       "grid_auto_rows": null,
       "grid_column": null,
       "grid_gap": null,
       "grid_row": null,
       "grid_template_areas": null,
       "grid_template_columns": null,
       "grid_template_rows": null,
       "height": null,
       "justify_content": null,
       "justify_items": null,
       "left": null,
       "margin": null,
       "max_height": null,
       "max_width": null,
       "min_height": null,
       "min_width": null,
       "object_fit": null,
       "object_position": null,
       "order": null,
       "overflow": null,
       "overflow_x": null,
       "overflow_y": null,
       "padding": null,
       "right": null,
       "top": null,
       "visibility": null,
       "width": null
      }
     },
     "3696654898e94e4a9a80e493c305e262": {
      "model_module": "@jupyter-widgets/controls",
      "model_module_version": "1.5.0",
      "model_name": "DescriptionStyleModel",
      "state": {
       "_model_module": "@jupyter-widgets/controls",
       "_model_module_version": "1.5.0",
       "_model_name": "DescriptionStyleModel",
       "_view_count": null,
       "_view_module": "@jupyter-widgets/base",
       "_view_module_version": "1.2.0",
       "_view_name": "StyleView",
       "description_width": ""
      }
     },
     "4afc77fe638f40ae927010a60c98b61f": {
      "model_module": "@jupyter-widgets/base",
      "model_module_version": "1.2.0",
      "model_name": "LayoutModel",
      "state": {
       "_model_module": "@jupyter-widgets/base",
       "_model_module_version": "1.2.0",
       "_model_name": "LayoutModel",
       "_view_count": null,
       "_view_module": "@jupyter-widgets/base",
       "_view_module_version": "1.2.0",
       "_view_name": "LayoutView",
       "align_content": null,
       "align_items": null,
       "align_self": null,
       "border": null,
       "bottom": null,
       "display": null,
       "flex": null,
       "flex_flow": null,
       "grid_area": null,
       "grid_auto_columns": null,
       "grid_auto_flow": null,
       "grid_auto_rows": null,
       "grid_column": null,
       "grid_gap": null,
       "grid_row": null,
       "grid_template_areas": null,
       "grid_template_columns": null,
       "grid_template_rows": null,
       "height": null,
       "justify_content": null,
       "justify_items": null,
       "left": null,
       "margin": null,
       "max_height": null,
       "max_width": null,
       "min_height": null,
       "min_width": null,
       "object_fit": null,
       "object_position": null,
       "order": null,
       "overflow": null,
       "overflow_x": null,
       "overflow_y": null,
       "padding": null,
       "right": null,
       "top": null,
       "visibility": null,
       "width": null
      }
     },
     "4f732a4187654a529ae2002021f76796": {
      "model_module": "@jupyter-widgets/controls",
      "model_module_version": "1.5.0",
      "model_name": "HTMLModel",
      "state": {
       "_dom_classes": [],
       "_model_module": "@jupyter-widgets/controls",
       "_model_module_version": "1.5.0",
       "_model_name": "HTMLModel",
       "_view_count": null,
       "_view_module": "@jupyter-widgets/controls",
       "_view_module_version": "1.5.0",
       "_view_name": "HTMLView",
       "description": "",
       "description_tooltip": null,
       "layout": "IPY_MODEL_5f19b022c2cc47a6a7165d3505f8a655",
       "placeholder": "​",
       "style": "IPY_MODEL_a63b0500c9b543fdaa3ea7f586862446",
       "value": "100%"
      }
     },
     "5e33736d077c4879b4cd4df7093e40d1": {
      "model_module": "@jupyter-widgets/controls",
      "model_module_version": "1.5.0",
      "model_name": "HTMLModel",
      "state": {
       "_dom_classes": [],
       "_model_module": "@jupyter-widgets/controls",
       "_model_module_version": "1.5.0",
       "_model_name": "HTMLModel",
       "_view_count": null,
       "_view_module": "@jupyter-widgets/controls",
       "_view_module_version": "1.5.0",
       "_view_name": "HTMLView",
       "description": "",
       "description_tooltip": null,
       "layout": "IPY_MODEL_d17c97d243234195b3f01884d66353d7",
       "placeholder": "​",
       "style": "IPY_MODEL_3696654898e94e4a9a80e493c305e262",
       "value": "100%"
      }
     },
     "5f19b022c2cc47a6a7165d3505f8a655": {
      "model_module": "@jupyter-widgets/base",
      "model_module_version": "1.2.0",
      "model_name": "LayoutModel",
      "state": {
       "_model_module": "@jupyter-widgets/base",
       "_model_module_version": "1.2.0",
       "_model_name": "LayoutModel",
       "_view_count": null,
       "_view_module": "@jupyter-widgets/base",
       "_view_module_version": "1.2.0",
       "_view_name": "LayoutView",
       "align_content": null,
       "align_items": null,
       "align_self": null,
       "border": null,
       "bottom": null,
       "display": null,
       "flex": null,
       "flex_flow": null,
       "grid_area": null,
       "grid_auto_columns": null,
       "grid_auto_flow": null,
       "grid_auto_rows": null,
       "grid_column": null,
       "grid_gap": null,
       "grid_row": null,
       "grid_template_areas": null,
       "grid_template_columns": null,
       "grid_template_rows": null,
       "height": null,
       "justify_content": null,
       "justify_items": null,
       "left": null,
       "margin": null,
       "max_height": null,
       "max_width": null,
       "min_height": null,
       "min_width": null,
       "object_fit": null,
       "object_position": null,
       "order": null,
       "overflow": null,
       "overflow_x": null,
       "overflow_y": null,
       "padding": null,
       "right": null,
       "top": null,
       "visibility": null,
       "width": null
      }
     },
     "663c1c7388614448b3be2304577e7477": {
      "model_module": "@jupyter-widgets/base",
      "model_module_version": "1.2.0",
      "model_name": "LayoutModel",
      "state": {
       "_model_module": "@jupyter-widgets/base",
       "_model_module_version": "1.2.0",
       "_model_name": "LayoutModel",
       "_view_count": null,
       "_view_module": "@jupyter-widgets/base",
       "_view_module_version": "1.2.0",
       "_view_name": "LayoutView",
       "align_content": null,
       "align_items": null,
       "align_self": null,
       "border": null,
       "bottom": null,
       "display": null,
       "flex": null,
       "flex_flow": null,
       "grid_area": null,
       "grid_auto_columns": null,
       "grid_auto_flow": null,
       "grid_auto_rows": null,
       "grid_column": null,
       "grid_gap": null,
       "grid_row": null,
       "grid_template_areas": null,
       "grid_template_columns": null,
       "grid_template_rows": null,
       "height": null,
       "justify_content": null,
       "justify_items": null,
       "left": null,
       "margin": null,
       "max_height": null,
       "max_width": null,
       "min_height": null,
       "min_width": null,
       "object_fit": null,
       "object_position": null,
       "order": null,
       "overflow": null,
       "overflow_x": null,
       "overflow_y": null,
       "padding": null,
       "right": null,
       "top": null,
       "visibility": null,
       "width": null
      }
     },
     "6c7f46003c4c453f81c3e4333dd24885": {
      "model_module": "@jupyter-widgets/controls",
      "model_module_version": "1.5.0",
      "model_name": "DescriptionStyleModel",
      "state": {
       "_model_module": "@jupyter-widgets/controls",
       "_model_module_version": "1.5.0",
       "_model_name": "DescriptionStyleModel",
       "_view_count": null,
       "_view_module": "@jupyter-widgets/base",
       "_view_module_version": "1.2.0",
       "_view_name": "StyleView",
       "description_width": ""
      }
     },
     "6ee14b247bc34cea8bc863f95ed1fda8": {
      "model_module": "@jupyter-widgets/controls",
      "model_module_version": "1.5.0",
      "model_name": "DescriptionStyleModel",
      "state": {
       "_model_module": "@jupyter-widgets/controls",
       "_model_module_version": "1.5.0",
       "_model_name": "DescriptionStyleModel",
       "_view_count": null,
       "_view_module": "@jupyter-widgets/base",
       "_view_module_version": "1.2.0",
       "_view_name": "StyleView",
       "description_width": ""
      }
     },
     "73a4a9d40d7a4e69b90dce4c9dcb5fc2": {
      "model_module": "@jupyter-widgets/base",
      "model_module_version": "1.2.0",
      "model_name": "LayoutModel",
      "state": {
       "_model_module": "@jupyter-widgets/base",
       "_model_module_version": "1.2.0",
       "_model_name": "LayoutModel",
       "_view_count": null,
       "_view_module": "@jupyter-widgets/base",
       "_view_module_version": "1.2.0",
       "_view_name": "LayoutView",
       "align_content": null,
       "align_items": null,
       "align_self": null,
       "border": null,
       "bottom": null,
       "display": null,
       "flex": null,
       "flex_flow": null,
       "grid_area": null,
       "grid_auto_columns": null,
       "grid_auto_flow": null,
       "grid_auto_rows": null,
       "grid_column": null,
       "grid_gap": null,
       "grid_row": null,
       "grid_template_areas": null,
       "grid_template_columns": null,
       "grid_template_rows": null,
       "height": null,
       "justify_content": null,
       "justify_items": null,
       "left": null,
       "margin": null,
       "max_height": null,
       "max_width": null,
       "min_height": null,
       "min_width": null,
       "object_fit": null,
       "object_position": null,
       "order": null,
       "overflow": null,
       "overflow_x": null,
       "overflow_y": null,
       "padding": null,
       "right": null,
       "top": null,
       "visibility": null,
       "width": null
      }
     },
     "7c177c8b6590461dae9abed56cfdf41d": {
      "model_module": "@jupyter-widgets/controls",
      "model_module_version": "1.5.0",
      "model_name": "FloatProgressModel",
      "state": {
       "_dom_classes": [],
       "_model_module": "@jupyter-widgets/controls",
       "_model_module_version": "1.5.0",
       "_model_name": "FloatProgressModel",
       "_view_count": null,
       "_view_module": "@jupyter-widgets/controls",
       "_view_module_version": "1.5.0",
       "_view_name": "ProgressView",
       "bar_style": "success",
       "description": "",
       "description_tooltip": null,
       "layout": "IPY_MODEL_663c1c7388614448b3be2304577e7477",
       "max": 4800.0,
       "min": 0.0,
       "orientation": "horizontal",
       "style": "IPY_MODEL_0e38a0a4ac7e4179b7efeb33d8f3fab4",
       "value": 4800.0
      }
     },
     "7d1eaa5a6d7b41c6a6ee2791e9d69e96": {
      "model_module": "@jupyter-widgets/controls",
      "model_module_version": "1.5.0",
      "model_name": "HTMLModel",
      "state": {
       "_dom_classes": [],
       "_model_module": "@jupyter-widgets/controls",
       "_model_module_version": "1.5.0",
       "_model_name": "HTMLModel",
       "_view_count": null,
       "_view_module": "@jupyter-widgets/controls",
       "_view_module_version": "1.5.0",
       "_view_name": "HTMLView",
       "description": "",
       "description_tooltip": null,
       "layout": "IPY_MODEL_2fd639af121c4e75a49ee84b4fcbf6a7",
       "placeholder": "​",
       "style": "IPY_MODEL_e19360d9ce3f44ec9551a2d78c056d16",
       "value": "100%"
      }
     },
     "7d568befebce48d5909a414500027bfa": {
      "model_module": "@jupyter-widgets/controls",
      "model_module_version": "1.5.0",
      "model_name": "ProgressStyleModel",
      "state": {
       "_model_module": "@jupyter-widgets/controls",
       "_model_module_version": "1.5.0",
       "_model_name": "ProgressStyleModel",
       "_view_count": null,
       "_view_module": "@jupyter-widgets/base",
       "_view_module_version": "1.2.0",
       "_view_name": "StyleView",
       "bar_color": null,
       "description_width": ""
      }
     },
     "8da4009eb500418cbb840dde5e97ea1f": {
      "model_module": "@jupyter-widgets/base",
      "model_module_version": "1.2.0",
      "model_name": "LayoutModel",
      "state": {
       "_model_module": "@jupyter-widgets/base",
       "_model_module_version": "1.2.0",
       "_model_name": "LayoutModel",
       "_view_count": null,
       "_view_module": "@jupyter-widgets/base",
       "_view_module_version": "1.2.0",
       "_view_name": "LayoutView",
       "align_content": null,
       "align_items": null,
       "align_self": null,
       "border": null,
       "bottom": null,
       "display": null,
       "flex": null,
       "flex_flow": null,
       "grid_area": null,
       "grid_auto_columns": null,
       "grid_auto_flow": null,
       "grid_auto_rows": null,
       "grid_column": null,
       "grid_gap": null,
       "grid_row": null,
       "grid_template_areas": null,
       "grid_template_columns": null,
       "grid_template_rows": null,
       "height": null,
       "justify_content": null,
       "justify_items": null,
       "left": null,
       "margin": null,
       "max_height": null,
       "max_width": null,
       "min_height": null,
       "min_width": null,
       "object_fit": null,
       "object_position": null,
       "order": null,
       "overflow": null,
       "overflow_x": null,
       "overflow_y": null,
       "padding": null,
       "right": null,
       "top": null,
       "visibility": null,
       "width": null
      }
     },
     "a142bff84e034a639c39d9796656b013": {
      "model_module": "@jupyter-widgets/controls",
      "model_module_version": "1.5.0",
      "model_name": "HBoxModel",
      "state": {
       "_dom_classes": [],
       "_model_module": "@jupyter-widgets/controls",
       "_model_module_version": "1.5.0",
       "_model_name": "HBoxModel",
       "_view_count": null,
       "_view_module": "@jupyter-widgets/controls",
       "_view_module_version": "1.5.0",
       "_view_name": "HBoxView",
       "box_style": "",
       "children": [
        "IPY_MODEL_4f732a4187654a529ae2002021f76796",
        "IPY_MODEL_e494c4269247460ba8d7910c092644fe",
        "IPY_MODEL_af2894170ef54475be6259b06cba1a8b"
       ],
       "layout": "IPY_MODEL_15bd1453130140c3a12574fa8cc20f87"
      }
     },
     "a26ac070995f459ab25065c0fcc5b562": {
      "model_module": "@jupyter-widgets/controls",
      "model_module_version": "1.5.0",
      "model_name": "HTMLModel",
      "state": {
       "_dom_classes": [],
       "_model_module": "@jupyter-widgets/controls",
       "_model_module_version": "1.5.0",
       "_model_name": "HTMLModel",
       "_view_count": null,
       "_view_module": "@jupyter-widgets/controls",
       "_view_module_version": "1.5.0",
       "_view_name": "HTMLView",
       "description": "",
       "description_tooltip": null,
       "layout": "IPY_MODEL_f8e488b567324b29b60b58cc7965a827",
       "placeholder": "​",
       "style": "IPY_MODEL_6ee14b247bc34cea8bc863f95ed1fda8",
       "value": " 1200/1200 [08:30&lt;00:00,  2.03it/s]"
      }
     },
     "a53e1f8ec7134fefb1c5ff7efc503170": {
      "model_module": "@jupyter-widgets/base",
      "model_module_version": "1.2.0",
      "model_name": "LayoutModel",
      "state": {
       "_model_module": "@jupyter-widgets/base",
       "_model_module_version": "1.2.0",
       "_model_name": "LayoutModel",
       "_view_count": null,
       "_view_module": "@jupyter-widgets/base",
       "_view_module_version": "1.2.0",
       "_view_name": "LayoutView",
       "align_content": null,
       "align_items": null,
       "align_self": null,
       "border": null,
       "bottom": null,
       "display": null,
       "flex": null,
       "flex_flow": null,
       "grid_area": null,
       "grid_auto_columns": null,
       "grid_auto_flow": null,
       "grid_auto_rows": null,
       "grid_column": null,
       "grid_gap": null,
       "grid_row": null,
       "grid_template_areas": null,
       "grid_template_columns": null,
       "grid_template_rows": null,
       "height": null,
       "justify_content": null,
       "justify_items": null,
       "left": null,
       "margin": null,
       "max_height": null,
       "max_width": null,
       "min_height": null,
       "min_width": null,
       "object_fit": null,
       "object_position": null,
       "order": null,
       "overflow": null,
       "overflow_x": null,
       "overflow_y": null,
       "padding": null,
       "right": null,
       "top": null,
       "visibility": null,
       "width": null
      }
     },
     "a61f8670c6a1484c9288e3d3935f9763": {
      "model_module": "@jupyter-widgets/controls",
      "model_module_version": "1.5.0",
      "model_name": "FloatProgressModel",
      "state": {
       "_dom_classes": [],
       "_model_module": "@jupyter-widgets/controls",
       "_model_module_version": "1.5.0",
       "_model_name": "FloatProgressModel",
       "_view_count": null,
       "_view_module": "@jupyter-widgets/controls",
       "_view_module_version": "1.5.0",
       "_view_name": "ProgressView",
       "bar_style": "success",
       "description": "",
       "description_tooltip": null,
       "layout": "IPY_MODEL_e18d5c1545e34678990471efa0f991e3",
       "max": 1200.0,
       "min": 0.0,
       "orientation": "horizontal",
       "style": "IPY_MODEL_c44342ce8e0642e382da0148120274b7",
       "value": 1200.0
      }
     },
     "a63b0500c9b543fdaa3ea7f586862446": {
      "model_module": "@jupyter-widgets/controls",
      "model_module_version": "1.5.0",
      "model_name": "DescriptionStyleModel",
      "state": {
       "_model_module": "@jupyter-widgets/controls",
       "_model_module_version": "1.5.0",
       "_model_name": "DescriptionStyleModel",
       "_view_count": null,
       "_view_module": "@jupyter-widgets/base",
       "_view_module_version": "1.2.0",
       "_view_name": "StyleView",
       "description_width": ""
      }
     },
     "a73c267e4bef444da03f4c967e0ea004": {
      "model_module": "@jupyter-widgets/base",
      "model_module_version": "1.2.0",
      "model_name": "LayoutModel",
      "state": {
       "_model_module": "@jupyter-widgets/base",
       "_model_module_version": "1.2.0",
       "_model_name": "LayoutModel",
       "_view_count": null,
       "_view_module": "@jupyter-widgets/base",
       "_view_module_version": "1.2.0",
       "_view_name": "LayoutView",
       "align_content": null,
       "align_items": null,
       "align_self": null,
       "border": null,
       "bottom": null,
       "display": null,
       "flex": null,
       "flex_flow": null,
       "grid_area": null,
       "grid_auto_columns": null,
       "grid_auto_flow": null,
       "grid_auto_rows": null,
       "grid_column": null,
       "grid_gap": null,
       "grid_row": null,
       "grid_template_areas": null,
       "grid_template_columns": null,
       "grid_template_rows": null,
       "height": null,
       "justify_content": null,
       "justify_items": null,
       "left": null,
       "margin": null,
       "max_height": null,
       "max_width": null,
       "min_height": null,
       "min_width": null,
       "object_fit": null,
       "object_position": null,
       "order": null,
       "overflow": null,
       "overflow_x": null,
       "overflow_y": null,
       "padding": null,
       "right": null,
       "top": null,
       "visibility": null,
       "width": null
      }
     },
     "ab6558e85aae4c14ba28a449a8c4855c": {
      "model_module": "@jupyter-widgets/controls",
      "model_module_version": "1.5.0",
      "model_name": "DescriptionStyleModel",
      "state": {
       "_model_module": "@jupyter-widgets/controls",
       "_model_module_version": "1.5.0",
       "_model_name": "DescriptionStyleModel",
       "_view_count": null,
       "_view_module": "@jupyter-widgets/base",
       "_view_module_version": "1.2.0",
       "_view_name": "StyleView",
       "description_width": ""
      }
     },
     "ad366c7c84ce49529988ce1684642e45": {
      "model_module": "@jupyter-widgets/base",
      "model_module_version": "1.2.0",
      "model_name": "LayoutModel",
      "state": {
       "_model_module": "@jupyter-widgets/base",
       "_model_module_version": "1.2.0",
       "_model_name": "LayoutModel",
       "_view_count": null,
       "_view_module": "@jupyter-widgets/base",
       "_view_module_version": "1.2.0",
       "_view_name": "LayoutView",
       "align_content": null,
       "align_items": null,
       "align_self": null,
       "border": null,
       "bottom": null,
       "display": null,
       "flex": null,
       "flex_flow": null,
       "grid_area": null,
       "grid_auto_columns": null,
       "grid_auto_flow": null,
       "grid_auto_rows": null,
       "grid_column": null,
       "grid_gap": null,
       "grid_row": null,
       "grid_template_areas": null,
       "grid_template_columns": null,
       "grid_template_rows": null,
       "height": null,
       "justify_content": null,
       "justify_items": null,
       "left": null,
       "margin": null,
       "max_height": null,
       "max_width": null,
       "min_height": null,
       "min_width": null,
       "object_fit": null,
       "object_position": null,
       "order": null,
       "overflow": null,
       "overflow_x": null,
       "overflow_y": null,
       "padding": null,
       "right": null,
       "top": null,
       "visibility": null,
       "width": null
      }
     },
     "af2894170ef54475be6259b06cba1a8b": {
      "model_module": "@jupyter-widgets/controls",
      "model_module_version": "1.5.0",
      "model_name": "HTMLModel",
      "state": {
       "_dom_classes": [],
       "_model_module": "@jupyter-widgets/controls",
       "_model_module_version": "1.5.0",
       "_model_name": "HTMLModel",
       "_view_count": null,
       "_view_module": "@jupyter-widgets/controls",
       "_view_module_version": "1.5.0",
       "_view_name": "HTMLView",
       "description": "",
       "description_tooltip": null,
       "layout": "IPY_MODEL_4afc77fe638f40ae927010a60c98b61f",
       "placeholder": "​",
       "style": "IPY_MODEL_023978130afe499097da5912b2a43395",
       "value": " 4800/4800 [33:02&lt;00:00,  2.01it/s]"
      }
     },
     "bf0b6a01570649a7b70aaaf36b2fd9d6": {
      "model_module": "@jupyter-widgets/controls",
      "model_module_version": "1.5.0",
      "model_name": "HBoxModel",
      "state": {
       "_dom_classes": [],
       "_model_module": "@jupyter-widgets/controls",
       "_model_module_version": "1.5.0",
       "_model_name": "HBoxModel",
       "_view_count": null,
       "_view_module": "@jupyter-widgets/controls",
       "_view_module_version": "1.5.0",
       "_view_name": "HBoxView",
       "box_style": "",
       "children": [
        "IPY_MODEL_5e33736d077c4879b4cd4df7093e40d1",
        "IPY_MODEL_a61f8670c6a1484c9288e3d3935f9763",
        "IPY_MODEL_a26ac070995f459ab25065c0fcc5b562"
       ],
       "layout": "IPY_MODEL_a73c267e4bef444da03f4c967e0ea004"
      }
     },
     "c44342ce8e0642e382da0148120274b7": {
      "model_module": "@jupyter-widgets/controls",
      "model_module_version": "1.5.0",
      "model_name": "ProgressStyleModel",
      "state": {
       "_model_module": "@jupyter-widgets/controls",
       "_model_module_version": "1.5.0",
       "_model_name": "ProgressStyleModel",
       "_view_count": null,
       "_view_module": "@jupyter-widgets/base",
       "_view_module_version": "1.2.0",
       "_view_name": "StyleView",
       "bar_color": null,
       "description_width": ""
      }
     },
     "c8fd2ee226474e21b92596ed60c5ed76": {
      "model_module": "@jupyter-widgets/controls",
      "model_module_version": "1.5.0",
      "model_name": "HBoxModel",
      "state": {
       "_dom_classes": [],
       "_model_module": "@jupyter-widgets/controls",
       "_model_module_version": "1.5.0",
       "_model_name": "HBoxModel",
       "_view_count": null,
       "_view_module": "@jupyter-widgets/controls",
       "_view_module_version": "1.5.0",
       "_view_name": "HBoxView",
       "box_style": "",
       "children": [
        "IPY_MODEL_7d1eaa5a6d7b41c6a6ee2791e9d69e96",
        "IPY_MODEL_7c177c8b6590461dae9abed56cfdf41d",
        "IPY_MODEL_f5f38ab3c6504f3d977d560e93816fea"
       ],
       "layout": "IPY_MODEL_2fa3173701ba4590ba11aa154f474141"
      }
     },
     "ccc3bd66ced3412da0cd804829b219de": {
      "model_module": "@jupyter-widgets/controls",
      "model_module_version": "1.5.0",
      "model_name": "HBoxModel",
      "state": {
       "_dom_classes": [],
       "_model_module": "@jupyter-widgets/controls",
       "_model_module_version": "1.5.0",
       "_model_name": "HBoxModel",
       "_view_count": null,
       "_view_module": "@jupyter-widgets/controls",
       "_view_module_version": "1.5.0",
       "_view_name": "HBoxView",
       "box_style": "",
       "children": [
        "IPY_MODEL_d2c5859b390541399fd5f7ef730e9529",
        "IPY_MODEL_114bad510a91463c916c85b7e8782fa1",
        "IPY_MODEL_2db899a7adcd4b1a94029f2626954fff"
       ],
       "layout": "IPY_MODEL_a53e1f8ec7134fefb1c5ff7efc503170"
      }
     },
     "d17c97d243234195b3f01884d66353d7": {
      "model_module": "@jupyter-widgets/base",
      "model_module_version": "1.2.0",
      "model_name": "LayoutModel",
      "state": {
       "_model_module": "@jupyter-widgets/base",
       "_model_module_version": "1.2.0",
       "_model_name": "LayoutModel",
       "_view_count": null,
       "_view_module": "@jupyter-widgets/base",
       "_view_module_version": "1.2.0",
       "_view_name": "LayoutView",
       "align_content": null,
       "align_items": null,
       "align_self": null,
       "border": null,
       "bottom": null,
       "display": null,
       "flex": null,
       "flex_flow": null,
       "grid_area": null,
       "grid_auto_columns": null,
       "grid_auto_flow": null,
       "grid_auto_rows": null,
       "grid_column": null,
       "grid_gap": null,
       "grid_row": null,
       "grid_template_areas": null,
       "grid_template_columns": null,
       "grid_template_rows": null,
       "height": null,
       "justify_content": null,
       "justify_items": null,
       "left": null,
       "margin": null,
       "max_height": null,
       "max_width": null,
       "min_height": null,
       "min_width": null,
       "object_fit": null,
       "object_position": null,
       "order": null,
       "overflow": null,
       "overflow_x": null,
       "overflow_y": null,
       "padding": null,
       "right": null,
       "top": null,
       "visibility": null,
       "width": null
      }
     },
     "d2c5859b390541399fd5f7ef730e9529": {
      "model_module": "@jupyter-widgets/controls",
      "model_module_version": "1.5.0",
      "model_name": "HTMLModel",
      "state": {
       "_dom_classes": [],
       "_model_module": "@jupyter-widgets/controls",
       "_model_module_version": "1.5.0",
       "_model_name": "HTMLModel",
       "_view_count": null,
       "_view_module": "@jupyter-widgets/controls",
       "_view_module_version": "1.5.0",
       "_view_name": "HTMLView",
       "description": "",
       "description_tooltip": null,
       "layout": "IPY_MODEL_eddd9c70f527458ea169e6a0a84d257f",
       "placeholder": "​",
       "style": "IPY_MODEL_ab6558e85aae4c14ba28a449a8c4855c",
       "value": "100%"
      }
     },
     "de6c93e8ff3b455e910a04e934de0e7d": {
      "model_module": "@jupyter-widgets/base",
      "model_module_version": "1.2.0",
      "model_name": "LayoutModel",
      "state": {
       "_model_module": "@jupyter-widgets/base",
       "_model_module_version": "1.2.0",
       "_model_name": "LayoutModel",
       "_view_count": null,
       "_view_module": "@jupyter-widgets/base",
       "_view_module_version": "1.2.0",
       "_view_name": "LayoutView",
       "align_content": null,
       "align_items": null,
       "align_self": null,
       "border": null,
       "bottom": null,
       "display": null,
       "flex": null,
       "flex_flow": null,
       "grid_area": null,
       "grid_auto_columns": null,
       "grid_auto_flow": null,
       "grid_auto_rows": null,
       "grid_column": null,
       "grid_gap": null,
       "grid_row": null,
       "grid_template_areas": null,
       "grid_template_columns": null,
       "grid_template_rows": null,
       "height": null,
       "justify_content": null,
       "justify_items": null,
       "left": null,
       "margin": null,
       "max_height": null,
       "max_width": null,
       "min_height": null,
       "min_width": null,
       "object_fit": null,
       "object_position": null,
       "order": null,
       "overflow": null,
       "overflow_x": null,
       "overflow_y": null,
       "padding": null,
       "right": null,
       "top": null,
       "visibility": null,
       "width": null
      }
     },
     "e18d5c1545e34678990471efa0f991e3": {
      "model_module": "@jupyter-widgets/base",
      "model_module_version": "1.2.0",
      "model_name": "LayoutModel",
      "state": {
       "_model_module": "@jupyter-widgets/base",
       "_model_module_version": "1.2.0",
       "_model_name": "LayoutModel",
       "_view_count": null,
       "_view_module": "@jupyter-widgets/base",
       "_view_module_version": "1.2.0",
       "_view_name": "LayoutView",
       "align_content": null,
       "align_items": null,
       "align_self": null,
       "border": null,
       "bottom": null,
       "display": null,
       "flex": null,
       "flex_flow": null,
       "grid_area": null,
       "grid_auto_columns": null,
       "grid_auto_flow": null,
       "grid_auto_rows": null,
       "grid_column": null,
       "grid_gap": null,
       "grid_row": null,
       "grid_template_areas": null,
       "grid_template_columns": null,
       "grid_template_rows": null,
       "height": null,
       "justify_content": null,
       "justify_items": null,
       "left": null,
       "margin": null,
       "max_height": null,
       "max_width": null,
       "min_height": null,
       "min_width": null,
       "object_fit": null,
       "object_position": null,
       "order": null,
       "overflow": null,
       "overflow_x": null,
       "overflow_y": null,
       "padding": null,
       "right": null,
       "top": null,
       "visibility": null,
       "width": null
      }
     },
     "e19360d9ce3f44ec9551a2d78c056d16": {
      "model_module": "@jupyter-widgets/controls",
      "model_module_version": "1.5.0",
      "model_name": "DescriptionStyleModel",
      "state": {
       "_model_module": "@jupyter-widgets/controls",
       "_model_module_version": "1.5.0",
       "_model_name": "DescriptionStyleModel",
       "_view_count": null,
       "_view_module": "@jupyter-widgets/base",
       "_view_module_version": "1.2.0",
       "_view_name": "StyleView",
       "description_width": ""
      }
     },
     "e494c4269247460ba8d7910c092644fe": {
      "model_module": "@jupyter-widgets/controls",
      "model_module_version": "1.5.0",
      "model_name": "FloatProgressModel",
      "state": {
       "_dom_classes": [],
       "_model_module": "@jupyter-widgets/controls",
       "_model_module_version": "1.5.0",
       "_model_name": "FloatProgressModel",
       "_view_count": null,
       "_view_module": "@jupyter-widgets/controls",
       "_view_module_version": "1.5.0",
       "_view_name": "ProgressView",
       "bar_style": "success",
       "description": "",
       "description_tooltip": null,
       "layout": "IPY_MODEL_de6c93e8ff3b455e910a04e934de0e7d",
       "max": 4800.0,
       "min": 0.0,
       "orientation": "horizontal",
       "style": "IPY_MODEL_7d568befebce48d5909a414500027bfa",
       "value": 4800.0
      }
     },
     "eddd9c70f527458ea169e6a0a84d257f": {
      "model_module": "@jupyter-widgets/base",
      "model_module_version": "1.2.0",
      "model_name": "LayoutModel",
      "state": {
       "_model_module": "@jupyter-widgets/base",
       "_model_module_version": "1.2.0",
       "_model_name": "LayoutModel",
       "_view_count": null,
       "_view_module": "@jupyter-widgets/base",
       "_view_module_version": "1.2.0",
       "_view_name": "LayoutView",
       "align_content": null,
       "align_items": null,
       "align_self": null,
       "border": null,
       "bottom": null,
       "display": null,
       "flex": null,
       "flex_flow": null,
       "grid_area": null,
       "grid_auto_columns": null,
       "grid_auto_flow": null,
       "grid_auto_rows": null,
       "grid_column": null,
       "grid_gap": null,
       "grid_row": null,
       "grid_template_areas": null,
       "grid_template_columns": null,
       "grid_template_rows": null,
       "height": null,
       "justify_content": null,
       "justify_items": null,
       "left": null,
       "margin": null,
       "max_height": null,
       "max_width": null,
       "min_height": null,
       "min_width": null,
       "object_fit": null,
       "object_position": null,
       "order": null,
       "overflow": null,
       "overflow_x": null,
       "overflow_y": null,
       "padding": null,
       "right": null,
       "top": null,
       "visibility": null,
       "width": null
      }
     },
     "f5f38ab3c6504f3d977d560e93816fea": {
      "model_module": "@jupyter-widgets/controls",
      "model_module_version": "1.5.0",
      "model_name": "HTMLModel",
      "state": {
       "_dom_classes": [],
       "_model_module": "@jupyter-widgets/controls",
       "_model_module_version": "1.5.0",
       "_model_name": "HTMLModel",
       "_view_count": null,
       "_view_module": "@jupyter-widgets/controls",
       "_view_module_version": "1.5.0",
       "_view_name": "HTMLView",
       "description": "",
       "description_tooltip": null,
       "layout": "IPY_MODEL_8da4009eb500418cbb840dde5e97ea1f",
       "placeholder": "​",
       "style": "IPY_MODEL_03250943b406497fbc4131ccc2273c54",
       "value": " 4800/4800 [1:21:02&lt;00:00,  1.30s/it]"
      }
     },
     "f8e488b567324b29b60b58cc7965a827": {
      "model_module": "@jupyter-widgets/base",
      "model_module_version": "1.2.0",
      "model_name": "LayoutModel",
      "state": {
       "_model_module": "@jupyter-widgets/base",
       "_model_module_version": "1.2.0",
       "_model_name": "LayoutModel",
       "_view_count": null,
       "_view_module": "@jupyter-widgets/base",
       "_view_module_version": "1.2.0",
       "_view_name": "LayoutView",
       "align_content": null,
       "align_items": null,
       "align_self": null,
       "border": null,
       "bottom": null,
       "display": null,
       "flex": null,
       "flex_flow": null,
       "grid_area": null,
       "grid_auto_columns": null,
       "grid_auto_flow": null,
       "grid_auto_rows": null,
       "grid_column": null,
       "grid_gap": null,
       "grid_row": null,
       "grid_template_areas": null,
       "grid_template_columns": null,
       "grid_template_rows": null,
       "height": null,
       "justify_content": null,
       "justify_items": null,
       "left": null,
       "margin": null,
       "max_height": null,
       "max_width": null,
       "min_height": null,
       "min_width": null,
       "object_fit": null,
       "object_position": null,
       "order": null,
       "overflow": null,
       "overflow_x": null,
       "overflow_y": null,
       "padding": null,
       "right": null,
       "top": null,
       "visibility": null,
       "width": null
      }
     }
    },
    "version_major": 2,
    "version_minor": 0
   }
  }
 },
 "nbformat": 4,
 "nbformat_minor": 5
}
