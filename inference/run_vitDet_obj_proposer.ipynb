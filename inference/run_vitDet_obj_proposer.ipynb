{
 "cells": [
  {
   "cell_type": "code",
   "execution_count": null,
   "metadata": {},
   "outputs": [],
   "source": [
    "from google.colab import drive\n",
    "drive.mount('/content/drive/')"
   ]
  },
  {
   "cell_type": "code",
   "execution_count": null,
   "metadata": {},
   "outputs": [],
   "source": [
    "!git clone https://github.com/uonat/SS2023_DI-Lab_Precitaste.git"
   ]
  },
  {
   "cell_type": "code",
   "execution_count": null,
   "metadata": {},
   "outputs": [],
   "source": [
    "%cd SS2023_DI-Lab_Precitaste"
   ]
  },
  {
   "cell_type": "code",
   "execution_count": null,
   "metadata": {},
   "outputs": [],
   "source": [
    "!pip install . &> /dev/null"
   ]
  },
  {
   "cell_type": "code",
   "execution_count": null,
   "metadata": {},
   "outputs": [],
   "source": [
    "import distutils.core\n",
    "import sys,os\n",
    "# Note: This is a faster way to install detectron2 in Colab, but it does not include all functionalities.\n",
    "# See https://detectron2.readthedocs.io/tutorials/install.html for full installation instructions\n",
    "!git clone 'https://github.com/facebookresearch/detectron2'  &> /dev/null\n",
    "dist = distutils.core.run_setup(\"./detectron2/setup.py\")\n",
    "!python -m pip install {' '.join([f\"'{x}'\" for x in dist.install_requires])} &> /dev/null\n",
    "sys.path.insert(0, os.path.abspath('./detectron2'))"
   ]
  },
  {
   "attachments": {},
   "cell_type": "markdown",
   "metadata": {},
   "source": [
    "# Data Loading"
   ]
  },
  {
   "cell_type": "code",
   "execution_count": null,
   "metadata": {},
   "outputs": [],
   "source": [
    "from dataset.SKU110K_fixed_dataset import download_dataset,get_image\n",
    "#TODO or if already downloaded, use directly to the directory path\n",
    "#path_to_ds,annotations_path = download_dataset() \n",
    "\n",
    "import tarfile\n",
    "with tarfile.open('/content/drive/MyDrive/ApplicationProject/Data/SKU110K_fixed.tar.gz') as compressed_folder: \n",
    "    compressed_folder.extractall('/content/SS2023_DI-Lab_Precitaste/dataset')\n",
    "path_to_ds = \"/content/SS2023_DI-Lab_Precitaste/dataset/SKU110K_fixed\"\n",
    "annotations_path = \"{}/annotations\".format(path_to_ds)\n",
    "\n",
    "\n",
    "#TODO get annotations here:  (& update print_img_with_GT_BB)\n",
    "#all_annotations = {\"train\":_get_annotations(train_ann_path),\"test\":_get_annotations(test_ann_path),\"val\":_get_annotations(val_ann_path)} \n",
    "#print_img_with_GT_BB(img_path,annotations_path,which_set=which_set)  "
   ]
  },
  {
   "attachments": {},
   "cell_type": "markdown",
   "metadata": {},
   "source": [
    "# Model"
   ]
  },
  {
   "cell_type": "code",
   "execution_count": null,
   "metadata": {},
   "outputs": [],
   "source": [
    "from models.VitDet import load_model,Draw_pred_BB,Draw_original_seg\n",
    "\n",
    "model_path =\"/content/drive/MyDrive/ApplicationProject/Models/model2.pkl\"\n",
    "model = load_model(model_path) \n",
    "#\"/content/SS2023_DI-Lab_Precitaste/detectron2/projects/ViTDet/configs/LVIS/mask_rcnn_vitdet_h_100ep.py\""
   ]
  },
  {
   "attachments": {},
   "cell_type": "markdown",
   "metadata": {},
   "source": [
    "# Output"
   ]
  },
  {
   "cell_type": "code",
   "execution_count": null,
   "metadata": {},
   "outputs": [],
   "source": [
    "import torch\n",
    "\n",
    "which_set = \"train\" #train #test #val\n",
    "random_img_num = 4\n",
    "img_path=\"{}/images/{}_{}.jpg\".format(path_to_ds,which_set,random_img_num) #Check if exists\n",
    "\n",
    "img = get_image(img_path)\n",
    "\n",
    "batch = [{'image':torch.from_numpy(img).movedim(-1,0)}]\n",
    "\n",
    "model.to('cpu')\n",
    "model.eval()\n",
    "with torch.no_grad():\n",
    "  model_result=model(batch)\n",
    "\n",
    "\n",
    "Draw_pred_BB(img,model_result)\n",
    "#Draw_original_seg(img,model_result)\n"
   ]
  }
 ],
 "metadata": {
  "language_info": {
   "name": "python"
  },
  "orig_nbformat": 4
 },
 "nbformat": 4,
 "nbformat_minor": 2
}
